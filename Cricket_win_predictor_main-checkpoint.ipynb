{
 "cells": [
  {
   "cell_type": "markdown",
   "id": "d72cf4d3-78b3-4d78-969b-ed95c81cd1ba",
   "metadata": {},
   "source": [
    "Importing the libraries that are required."
   ]
  },
  {
   "cell_type": "code",
   "execution_count": 176,
   "id": "fda79160-6468-4e5a-930c-eee38fab3c7e",
   "metadata": {
    "collapsed": true,
    "jupyter": {
     "outputs_hidden": true
    }
   },
   "outputs": [],
   "source": [
    "import pandas as pd\n",
    "import numpy as np\n",
    "import matplotlib.pyplot as plt\n",
    "import seaborn as sns\n",
    "from sklearn.model_selection import train_test_split\n",
    "from sklearn.ensemble import RandomForestClassifier\n",
    "from sklearn.metrics import accuracy_score, classification_report, confusion_matrix\n",
    "from sklearn.preprocessing import MinMaxScaler, LabelEncoder"
   ]
  },
  {
   "cell_type": "markdown",
   "id": "95a208bc-1719-46ed-bc9b-6ab69533c71e",
   "metadata": {},
   "source": [
    "setting visualization styles for better visualization"
   ]
  },
  {
   "cell_type": "code",
   "execution_count": 6,
   "id": "081ca6c1-ee59-4635-84f8-a7cf8109cbf8",
   "metadata": {
    "collapsed": true,
    "jupyter": {
     "outputs_hidden": true
    }
   },
   "outputs": [],
   "source": [
    "sns.set(style=\"whitegrid\")"
   ]
  },
  {
   "cell_type": "markdown",
   "id": "e532960e-bbc7-4fc0-b0ab-1e2f05fcdb04",
   "metadata": {},
   "source": [
    "Suppress scientific notation in pandas (if needed for large numbers)"
   ]
  },
  {
   "cell_type": "code",
   "execution_count": 9,
   "id": "7d959f02-bf37-472e-ab83-c6127c964ac5",
   "metadata": {
    "collapsed": true,
    "jupyter": {
     "outputs_hidden": true
    }
   },
   "outputs": [
    {
     "name": "stdout",
     "output_type": "stream",
     "text": [
      "Libraries imported successfully!\n"
     ]
    }
   ],
   "source": [
    "pd.options.display.float_format = '{:.2f}'.format\n",
    "\n",
    "print(\"Libraries imported successfully!\")"
   ]
  },
  {
   "cell_type": "markdown",
   "id": "f0c44c92-634e-4f2c-9eb7-2a69220df830",
   "metadata": {},
   "source": [
    "Now we will load the datasets "
   ]
  },
  {
   "cell_type": "code",
   "execution_count": 14,
   "id": "84e3cac1-0da4-45b3-9cd7-3fdcbe250392",
   "metadata": {
    "collapsed": true,
    "jupyter": {
     "outputs_hidden": true
    },
    "scrolled": true
   },
   "outputs": [],
   "source": [
    "odi_match_data = pd.read_excel(r\"C:\\Aadi\\python projects\\Cricket Win predictor for ODI\\Dataset\\ODI_Match_Data.xlsx\")\n",
    "odi_match_info = pd.read_excel(r\"C:\\Aadi\\python projects\\Cricket Win predictor for ODI\\Dataset\\ODI_Match_info.xlsx\")"
   ]
  },
  {
   "cell_type": "markdown",
   "id": "b2c0580b-c338-4f7f-9d71-e1f47f7203aa",
   "metadata": {},
   "source": [
    "Now we will preview the first few rows of our dataset"
   ]
  },
  {
   "cell_type": "code",
   "execution_count": 21,
   "id": "d318072c-ed00-4d5b-833f-1bb60a6e44f2",
   "metadata": {
    "collapsed": true,
    "jupyter": {
     "outputs_hidden": true
    }
   },
   "outputs": [
    {
     "name": "stdout",
     "output_type": "stream",
     "text": [
      "ODI match data preview\n"
     ]
    },
    {
     "data": {
      "text/plain": [
       "<bound method NDFrame.head of          match_id   season start_date                                   venue  \\\n",
       "0         1389389  2023/24 2023-09-24          Holkar Cricket Stadium, Indore   \n",
       "1         1389389  2023/24 2023-09-24          Holkar Cricket Stadium, Indore   \n",
       "2         1389389  2023/24 2023-09-24          Holkar Cricket Stadium, Indore   \n",
       "3         1389389  2023/24 2023-09-24          Holkar Cricket Stadium, Indore   \n",
       "4         1389389  2023/24 2023-09-24          Holkar Cricket Stadium, Indore   \n",
       "...           ...      ...        ...                                     ...   \n",
       "1048570    249239  2006/07 2007-02-06  Brisbane Cricket Ground, Woolloongabba   \n",
       "1048571    249239  2006/07 2007-02-06  Brisbane Cricket Ground, Woolloongabba   \n",
       "1048572    249239  2006/07 2007-02-06  Brisbane Cricket Ground, Woolloongabba   \n",
       "1048573    249239  2006/07 2007-02-06  Brisbane Cricket Ground, Woolloongabba   \n",
       "1048574    249239  2006/07 2007-02-06  Brisbane Cricket Ground, Woolloongabba   \n",
       "\n",
       "         innings  ball batting_team bowling_team         striker  \\\n",
       "0              1  0.10        India    Australia      RD Gaikwad   \n",
       "1              1  0.20        India    Australia      RD Gaikwad   \n",
       "2              1  0.30        India    Australia      RD Gaikwad   \n",
       "3              1  0.40        India    Australia      RD Gaikwad   \n",
       "4              1  0.50        India    Australia      RD Gaikwad   \n",
       "...          ...   ...          ...          ...             ...   \n",
       "1048570        1 35.10      England  New Zealand  PD Collingwood   \n",
       "1048571        1 35.20      England  New Zealand  PD Collingwood   \n",
       "1048572        1 35.30      England  New Zealand  PD Collingwood   \n",
       "1048573        1 35.40      England  New Zealand  PD Collingwood   \n",
       "1048574        1 35.50      England  New Zealand  PD Collingwood   \n",
       "\n",
       "          non_striker  ... wides  noballs  byes  legbyes  penalty  \\\n",
       "0        Shubman Gill  ...   NaN      NaN   NaN      NaN      NaN   \n",
       "1        Shubman Gill  ...   NaN      NaN   NaN      NaN      NaN   \n",
       "2        Shubman Gill  ...   NaN      NaN   NaN      NaN      NaN   \n",
       "3        Shubman Gill  ...   NaN      NaN   NaN      NaN      NaN   \n",
       "4        Shubman Gill  ...   NaN      NaN   NaN      NaN      NaN   \n",
       "...               ...  ...   ...      ...   ...      ...      ...   \n",
       "1048570    A Flintoff  ...   NaN      NaN   NaN      NaN      NaN   \n",
       "1048571    A Flintoff  ...   NaN      NaN   NaN      NaN      NaN   \n",
       "1048572    A Flintoff  ...   NaN      NaN   NaN      NaN      NaN   \n",
       "1048573    A Flintoff  ...   NaN      NaN   NaN      NaN      NaN   \n",
       "1048574    A Flintoff  ...   NaN      NaN   NaN      NaN      NaN   \n",
       "\n",
       "         wicket_type  player_dismissed  other_wicket_type  \\\n",
       "0                NaN               NaN                NaN   \n",
       "1                NaN               NaN                NaN   \n",
       "2                NaN               NaN                NaN   \n",
       "3                NaN               NaN                NaN   \n",
       "4                NaN               NaN                NaN   \n",
       "...              ...               ...                ...   \n",
       "1048570          NaN               NaN                NaN   \n",
       "1048571          NaN               NaN                NaN   \n",
       "1048572          NaN               NaN                NaN   \n",
       "1048573          NaN               NaN                NaN   \n",
       "1048574          NaN               NaN                NaN   \n",
       "\n",
       "        other_player_dismissed cricsheet_id  \n",
       "0                          NaN      1389389  \n",
       "1                          NaN      1389389  \n",
       "2                          NaN      1389389  \n",
       "3                          NaN      1389389  \n",
       "4                          NaN      1389389  \n",
       "...                        ...          ...  \n",
       "1048570                    NaN       249239  \n",
       "1048571                    NaN       249239  \n",
       "1048572                    NaN       249239  \n",
       "1048573                    NaN       249239  \n",
       "1048574                    NaN       249239  \n",
       "\n",
       "[1048575 rows x 23 columns]>"
      ]
     },
     "metadata": {},
     "output_type": "display_data"
    },
    {
     "name": "stdout",
     "output_type": "stream",
     "text": [
      "ODI match info preview\n"
     ]
    },
    {
     "data": {
      "text/plain": [
       "<bound method NDFrame.head of            id   season          city       date        team1        team2  \\\n",
       "0     1389389  2023/24        Indore 2023-09-24        India    Australia   \n",
       "1     1336129     2023    Nottingham 2023-09-23      England      Ireland   \n",
       "2     1395701     2023         Dhaka 2023-09-23  New Zealand   Bangladesh   \n",
       "3     1389388  2023/24    Chandigarh 2023-09-22    Australia        India   \n",
       "4     1395700     2023         Dhaka 2023-09-21  New Zealand   Bangladesh   \n",
       "...       ...      ...           ...        ...          ...          ...   \n",
       "2374    65634  2002/03        Sydney 2003-01-09    Sri Lanka    Australia   \n",
       "2375    64817  2002/03    Wellington 2003-01-08  New Zealand        India   \n",
       "2376    64816  2002/03    Queenstown 2003-01-04        India  New Zealand   \n",
       "2377    64815  2002/03  Christchurch 2003-01-01        India  New Zealand   \n",
       "2378    64814  2002/03        Napier 2002-12-29  New Zealand        India   \n",
       "\n",
       "      toss_winner toss_decision  result  dl_applied       winner  win_by_runs  \\\n",
       "0       Australia         field     D/L           1        India           99   \n",
       "1         Ireland         field  normal           0      England           48   \n",
       "2     New Zealand           bat  normal           0  New Zealand           86   \n",
       "3           India         field  normal           0        India            0   \n",
       "4      Bangladesh         field  normal           0          NaN            0   \n",
       "...           ...           ...     ...         ...          ...          ...   \n",
       "2374    Australia         field  normal           0    Sri Lanka           79   \n",
       "2375  New Zealand           bat  normal           0        India            0   \n",
       "2376  New Zealand         field  normal           0  New Zealand            0   \n",
       "2377        India           bat  normal           0  New Zealand            0   \n",
       "2378        India         field  normal           0  New Zealand           35   \n",
       "\n",
       "      win_by_wickets player_of_match  \\\n",
       "0                  0         SS Iyer   \n",
       "1                  0        WG Jacks   \n",
       "2                  0        IS Sodhi   \n",
       "3                  5  Mohammed Shami   \n",
       "4                  0             NaN   \n",
       "...              ...             ...   \n",
       "2374               0   ST Jayasuriya   \n",
       "2375               2          Z Khan   \n",
       "2376               7        AR Adams   \n",
       "2377               5       DR Tuffey   \n",
       "2378               0        V Sehwag   \n",
       "\n",
       "                                                  venue  \\\n",
       "0                        Holkar Cricket Stadium, Indore   \n",
       "1                              Trent Bridge, Nottingham   \n",
       "2                 Shere Bangla National Stadium, Mirpur   \n",
       "3     Punjab Cricket Association IS Bindra Stadium, ...   \n",
       "4                 Shere Bangla National Stadium, Mirpur   \n",
       "...                                                 ...   \n",
       "2374                              Sydney Cricket Ground   \n",
       "2375                        Westpac Stadium, Wellington   \n",
       "2376                            Davies Park, Queenstown   \n",
       "2377                         Jade Stadium, Christchurch   \n",
       "2378                                McLean Park, Napier   \n",
       "\n",
       "                    umpire1          umpire2                umpire3  \n",
       "0             J Madanagopal  HDPK Dharmasena  KN Ananthapadmanabhan  \n",
       "1                 DJ Millns        RJ Tucker             PR Reiffel  \n",
       "2                 M Erasmus     Sharfuddoula            Nitin Menon  \n",
       "3     KN Ananthapadmanabhan  HDPK Dharmasena          J Madanagopal  \n",
       "4               Nitin Menon     Sharfuddoula              M Erasmus  \n",
       "...                     ...              ...                    ...  \n",
       "2374              RB Tiffin       SJA Taufel                DB Hair  \n",
       "2375              BF Bowden        DJ Harper               DB Cowie  \n",
       "2376           EAR de Silva         DB Cowie                AL Hill  \n",
       "2377           EAR de Silva         DB Cowie                AL Hill  \n",
       "2378           EAR de Silva         DB Cowie              BF Bowden  \n",
       "\n",
       "[2379 rows x 18 columns]>"
      ]
     },
     "metadata": {},
     "output_type": "display_data"
    }
   ],
   "source": [
    "print(\"ODI match data preview\")\n",
    "display(odi_match_data.head)\n",
    "\n",
    "print(\"ODI match info preview\")\n",
    "display(odi_match_info.head)"
   ]
  },
  {
   "cell_type": "markdown",
   "id": "43394cc2-aab8-455a-a7d0-69be3eddb390",
   "metadata": {},
   "source": [
    "Now we are going to Explore this data set that we have added"
   ]
  },
  {
   "cell_type": "markdown",
   "id": "3464a079-2903-4d16-be9b-9681fbaf4f64",
   "metadata": {},
   "source": [
    "Firstly we are goin to check the structure of the data "
   ]
  },
  {
   "cell_type": "code",
   "execution_count": 25,
   "id": "79e98d4a-fb6d-450e-a51d-df1e08f20c69",
   "metadata": {
    "collapsed": true,
    "jupyter": {
     "outputs_hidden": true
    }
   },
   "outputs": [
    {
     "name": "stdout",
     "output_type": "stream",
     "text": [
      "ODI match data info:\n",
      "<class 'pandas.core.frame.DataFrame'>\n",
      "RangeIndex: 1048575 entries, 0 to 1048574\n",
      "Data columns (total 23 columns):\n",
      " #   Column                  Non-Null Count    Dtype         \n",
      "---  ------                  --------------    -----         \n",
      " 0   match_id                1048575 non-null  int64         \n",
      " 1   season                  1048575 non-null  object        \n",
      " 2   start_date              1048575 non-null  datetime64[ns]\n",
      " 3   venue                   1048575 non-null  object        \n",
      " 4   innings                 1048575 non-null  int64         \n",
      " 5   ball                    1048575 non-null  float64       \n",
      " 6   batting_team            1048575 non-null  object        \n",
      " 7   bowling_team            1048575 non-null  object        \n",
      " 8   striker                 1048575 non-null  object        \n",
      " 9   non_striker             1048575 non-null  object        \n",
      " 10  bowler                  1048575 non-null  object        \n",
      " 11  runs_off_bat            1048575 non-null  int64         \n",
      " 12  extras                  1048575 non-null  int64         \n",
      " 13  wides                   23725 non-null    float64       \n",
      " 14  noballs                 2895 non-null     float64       \n",
      " 15  byes                    1663 non-null     float64       \n",
      " 16  legbyes                 10151 non-null    float64       \n",
      " 17  penalty                 17 non-null       float64       \n",
      " 18  wicket_type             28701 non-null    object        \n",
      " 19  player_dismissed        28701 non-null    object        \n",
      " 20  other_wicket_type       0 non-null        float64       \n",
      " 21  other_player_dismissed  0 non-null        float64       \n",
      " 22  cricsheet_id            1048575 non-null  int64         \n",
      "dtypes: datetime64[ns](1), float64(8), int64(5), object(9)\n",
      "memory usage: 184.0+ MB\n"
     ]
    }
   ],
   "source": [
    "print('ODI match data info:')\n",
    "odi_match_data.info()"
   ]
  },
  {
   "cell_type": "code",
   "execution_count": 27,
   "id": "3951de90-13e3-4b1c-a1c2-4c0ef3f4e2f1",
   "metadata": {
    "collapsed": true,
    "jupyter": {
     "outputs_hidden": true
    }
   },
   "outputs": [
    {
     "name": "stdout",
     "output_type": "stream",
     "text": [
      "ODI match info:\n",
      "<class 'pandas.core.frame.DataFrame'>\n",
      "RangeIndex: 2379 entries, 0 to 2378\n",
      "Data columns (total 18 columns):\n",
      " #   Column           Non-Null Count  Dtype         \n",
      "---  ------           --------------  -----         \n",
      " 0   id               2379 non-null   int64         \n",
      " 1   season           2379 non-null   object        \n",
      " 2   city             2069 non-null   object        \n",
      " 3   date             2379 non-null   datetime64[ns]\n",
      " 4   team1            2379 non-null   object        \n",
      " 5   team2            2379 non-null   object        \n",
      " 6   toss_winner      2379 non-null   object        \n",
      " 7   toss_decision    2379 non-null   object        \n",
      " 8   result           2379 non-null   object        \n",
      " 9   dl_applied       2379 non-null   int64         \n",
      " 10  winner           2259 non-null   object        \n",
      " 11  win_by_runs      2379 non-null   int64         \n",
      " 12  win_by_wickets   2379 non-null   int64         \n",
      " 13  player_of_match  2228 non-null   object        \n",
      " 14  venue            2379 non-null   object        \n",
      " 15  umpire1          2379 non-null   object        \n",
      " 16  umpire2          2379 non-null   object        \n",
      " 17  umpire3          2097 non-null   object        \n",
      "dtypes: datetime64[ns](1), int64(4), object(13)\n",
      "memory usage: 334.7+ KB\n"
     ]
    }
   ],
   "source": [
    "print('ODI match info:')\n",
    "odi_match_info.info()"
   ]
  },
  {
   "cell_type": "markdown",
   "id": "1ab9f028-07b0-4a3f-a1a2-a3af03ae0236",
   "metadata": {},
   "source": [
    "Now we are going to check for the missing values "
   ]
  },
  {
   "cell_type": "code",
   "execution_count": 34,
   "id": "d160dbc0-822a-49e4-8418-19fb8f63f10f",
   "metadata": {
    "collapsed": true,
    "jupyter": {
     "outputs_hidden": true
    }
   },
   "outputs": [
    {
     "name": "stdout",
     "output_type": "stream",
     "text": [
      "Missing values in Match data:\n",
      "match_id                        0\n",
      "season                          0\n",
      "start_date                      0\n",
      "venue                           0\n",
      "innings                         0\n",
      "ball                            0\n",
      "batting_team                    0\n",
      "bowling_team                    0\n",
      "striker                         0\n",
      "non_striker                     0\n",
      "bowler                          0\n",
      "runs_off_bat                    0\n",
      "extras                          0\n",
      "wides                     1024850\n",
      "noballs                   1045680\n",
      "byes                      1046912\n",
      "legbyes                   1038424\n",
      "penalty                   1048558\n",
      "wicket_type               1019874\n",
      "player_dismissed          1019874\n",
      "other_wicket_type         1048575\n",
      "other_player_dismissed    1048575\n",
      "cricsheet_id                    0\n",
      "dtype: int64\n",
      "Missing values in match info:\n",
      "id                   0\n",
      "season               0\n",
      "city               310\n",
      "date                 0\n",
      "team1                0\n",
      "team2                0\n",
      "toss_winner          0\n",
      "toss_decision        0\n",
      "result               0\n",
      "dl_applied           0\n",
      "winner             120\n",
      "win_by_runs          0\n",
      "win_by_wickets       0\n",
      "player_of_match    151\n",
      "venue                0\n",
      "umpire1              0\n",
      "umpire2              0\n",
      "umpire3            282\n",
      "dtype: int64\n"
     ]
    }
   ],
   "source": [
    "print('Missing values in Match data:')\n",
    "print(odi_match_data.isnull().sum())\n",
    "\n",
    "print('Missing values in match info:')\n",
    "print(odi_match_info.isnull().sum())"
   ]
  },
  {
   "cell_type": "markdown",
   "id": "3cf3a724-bc4b-4e9a-a4fc-0bfe1e923f74",
   "metadata": {},
   "source": [
    "Now we will check the descriptive statistics"
   ]
  },
  {
   "cell_type": "code",
   "execution_count": 41,
   "id": "5cb039f3-4270-4efd-9604-3b12fc398db2",
   "metadata": {
    "collapsed": true,
    "jupyter": {
     "outputs_hidden": true
    }
   },
   "outputs": [
    {
     "name": "stdout",
     "output_type": "stream",
     "text": [
      "This is the summary of the statistics of Match data :\n",
      "        match_id                     start_date    innings       ball  \\\n",
      "count 1048575.00                        1048575 1048575.00 1048575.00   \n",
      "mean   829485.01  2015-07-12 00:01:38.217867776       1.46      22.67   \n",
      "min    247457.00            2007-02-06 00:00:00       1.00       0.10   \n",
      "25%    463153.00            2011-03-08 00:00:00       1.00      10.60   \n",
      "50%    770127.00            2015-03-29 00:00:00       1.00      22.10   \n",
      "75%   1168117.00            2019-06-15 00:00:00       2.00      34.10   \n",
      "max   1395701.00            2023-09-24 00:00:00       4.00      49.90   \n",
      "std    373121.81                            NaN       0.50      13.80   \n",
      "\n",
      "       runs_off_bat     extras    wides  noballs    byes  legbyes  penalty  \\\n",
      "count    1048575.00 1048575.00 23725.00  2895.00 1663.00 10151.00    17.00   \n",
      "mean           0.80       0.05     1.21     1.05    2.06     1.38     5.00   \n",
      "min            0.00       0.00     1.00     1.00    1.00     1.00     5.00   \n",
      "25%            0.00       0.00     1.00     1.00    1.00     1.00     5.00   \n",
      "50%            0.00       0.00     1.00     1.00    1.00     1.00     5.00   \n",
      "75%            1.00       0.00     1.00     1.00    4.00     1.00     5.00   \n",
      "max            7.00       6.00     5.00     5.00    4.00     5.00     5.00   \n",
      "std            1.27       0.29     0.80     0.38    1.32     0.90     0.00   \n",
      "\n",
      "       other_wicket_type  other_player_dismissed  cricsheet_id  \n",
      "count               0.00                    0.00    1048575.00  \n",
      "mean                 NaN                     NaN     829485.01  \n",
      "min                  NaN                     NaN     247457.00  \n",
      "25%                  NaN                     NaN     463153.00  \n",
      "50%                  NaN                     NaN     770127.00  \n",
      "75%                  NaN                     NaN    1168117.00  \n",
      "max                  NaN                     NaN    1395701.00  \n",
      "std                  NaN                     NaN     373121.81  \n",
      "\n",
      "This is the summary of the statistics of Match info :\n",
      "              id                           date  dl_applied  win_by_runs  \\\n",
      "count    2379.00                           2379     2379.00      2379.00   \n",
      "mean   711435.38  2013-09-22 06:47:21.866330368        0.08        34.68   \n",
      "min     64814.00            2002-12-29 00:00:00        0.00         0.00   \n",
      "25%    335349.50            2008-06-29 00:00:00        0.00         0.00   \n",
      "50%    649095.00            2013-11-10 00:00:00        0.00         0.00   \n",
      "75%   1144487.50            2018-10-08 00:00:00        0.00        58.00   \n",
      "max   1395701.00            2023-09-24 00:00:00        1.00       317.00   \n",
      "std    428734.48                            NaN        0.28        53.99   \n",
      "\n",
      "       win_by_wickets  \n",
      "count         2379.00  \n",
      "mean             2.75  \n",
      "min              0.00  \n",
      "25%              0.00  \n",
      "50%              0.00  \n",
      "75%              6.00  \n",
      "max             10.00  \n",
      "std              3.24  \n"
     ]
    }
   ],
   "source": [
    "print('This is the summary of the statistics of Match data :')\n",
    "print(odi_match_data.describe())\n",
    "print('\\nThis is the summary of the statistics of Match info :')\n",
    "print(odi_match_info.describe())"
   ]
  },
  {
   "cell_type": "markdown",
   "id": "43695bd2-e90c-45ad-b6e5-71bc9310341e",
   "metadata": {},
   "source": [
    "Now we are done with loading the data and checking the data, now we are going to visualize the data."
   ]
  },
  {
   "cell_type": "markdown",
   "id": "a33a6315-6044-4a19-96af-8abb64b199bf",
   "metadata": {},
   "source": [
    "First we are going to take the Heatmap for the missing values in ODI match info"
   ]
  },
  {
   "cell_type": "code",
   "execution_count": 45,
   "id": "ce8f3d52-c344-4d96-9db3-4f05522bf8de",
   "metadata": {
    "collapsed": true,
    "jupyter": {
     "outputs_hidden": true
    }
   },
   "outputs": [
    {
     "data": {
      "image/png": "[encoded data removed]",
      "text/plain": [
       "<Figure size 640x480 with 1 Axes>"
      ]
     },
     "metadata": {},
     "output_type": "display_data"
    }
   ],
   "source": [
    "sns.heatmap(odi_match_info.isnull(), cbar=False, cmap=\"viridis\")\n",
    "plt.title(\"Missing Values in ODI Match Info\")\n",
    "plt.show()"
   ]
  },
  {
   "cell_type": "markdown",
   "id": "559f8803-a6ad-4f4d-9d6e-5645a833ba5e",
   "metadata": {},
   "source": [
    "Now we are going to visualize wins by runs margin with the help of a histogram of run distribution. "
   ]
  },
  {
   "cell_type": "code",
   "execution_count": 63,
   "id": "0da48c67-29b0-4db5-b417-910bb63ee9c6",
   "metadata": {
    "collapsed": true,
    "jupyter": {
     "outputs_hidden": true
    }
   },
   "outputs": [
    {
     "data": {
      "image/png": "[encoded data removed]",
      "text/plain": [
       "<Figure size 640x480 with 1 Axes>"
      ]
     },
     "metadata": {},
     "output_type": "display_data"
    }
   ],
   "source": [
    "sns.histplot(odi_match_info['win_by_runs'], kde=False, bins=20)\n",
    "plt.title(\"Distribution of Win by Runs\")\n",
    "plt.xlabel(\"Win by Runs\")\n",
    "plt.ylabel(\"Frequency\")\n",
    "plt.show()"
   ]
  },
  {
   "cell_type": "markdown",
   "id": "1ec070d8-40ca-48d1-91ef-0f6ab6122052",
   "metadata": {},
   "source": [
    "Now we are going to visualize wins by distribution of wickets using a histogram "
   ]
  },
  {
   "cell_type": "code",
   "execution_count": 51,
   "id": "0e4e1a30-5301-44c7-9675-e46224f2025e",
   "metadata": {
    "collapsed": true,
    "jupyter": {
     "outputs_hidden": true
    },
    "scrolled": true
   },
   "outputs": [
    {
     "data": {
      "image/png": "[encoded data removed]",
      "text/plain": [
       "<Figure size 640x480 with 1 Axes>"
      ]
     },
     "metadata": {},
     "output_type": "display_data"
    }
   ],
   "source": [
    "sns.histplot(odi_match_info['win_by_wickets'], kde=False, bins=10)\n",
    "plt.title(\"Distribution of Win by Wickets\")\n",
    "plt.xlabel(\"Win by Wickets\")\n",
    "plt.ylabel(\"Frequency\")\n",
    "plt.show()"
   ]
  },
  {
   "cell_type": "markdown",
   "id": "a511812a-a9d5-4440-a9d8-a44e8b9dc136",
   "metadata": {},
   "source": [
    "Now we are going to clean the data that we have and we are also going to preprocess it. "
   ]
  },
  {
   "cell_type": "markdown",
   "id": "c1409c7a-e31b-484e-8dce-1ec449ee6779",
   "metadata": {},
   "source": [
    "Firstly we are going to drop the rows that have a missing winner"
   ]
  },
  {
   "cell_type": "code",
   "execution_count": 69,
   "id": "273a2ea4-e979-459a-80e9-387e4aaedab6",
   "metadata": {
    "collapsed": true,
    "jupyter": {
     "outputs_hidden": true
    }
   },
   "outputs": [
    {
     "name": "stdout",
     "output_type": "stream",
     "text": [
      "Missing values after cleaning the 'winner' column\n",
      "id                   0\n",
      "season               0\n",
      "city               297\n",
      "date                 0\n",
      "team1                0\n",
      "team2                0\n",
      "toss_winner          0\n",
      "toss_decision        0\n",
      "result               0\n",
      "dl_applied           0\n",
      "winner               0\n",
      "win_by_runs          0\n",
      "win_by_wickets       0\n",
      "player_of_match     57\n",
      "venue                0\n",
      "umpire1              0\n",
      "umpire2              0\n",
      "umpire3            267\n",
      "dtype: int64\n"
     ]
    }
   ],
   "source": [
    "odi_match_info = odi_match_info.dropna(subset = ['winner'])\n",
    "print(\"Missing values after cleaning the 'winner' column\")\n",
    "print(odi_match_info.isnull().sum())"
   ]
  },
  {
   "cell_type": "markdown",
   "id": "887b5c37-5677-4857-98cb-23116475616e",
   "metadata": {},
   "source": [
    "Now we are going to fill the data for missing ball by ball values"
   ]
  },
  {
   "cell_type": "code",
   "execution_count": 74,
   "id": "52734f66-06c8-4af8-bbc6-e011d95b3e79",
   "metadata": {
    "collapsed": true,
    "jupyter": {
     "outputs_hidden": true
    }
   },
   "outputs": [
    {
     "name": "stdout",
     "output_type": "stream",
     "text": [
      "wides      0\n",
      "noballs    0\n",
      "dtype: int64\n"
     ]
    }
   ],
   "source": [
    "odi_match_data['wides'] = odi_match_data['wides'].fillna(0)\n",
    "odi_match_data['noballs'] = odi_match_data['noballs'].fillna(0)\n",
    "\n",
    "# Verify the changes\n",
    "print(odi_match_data[['wides', 'noballs']].isnull().sum())"
   ]
  },
  {
   "cell_type": "markdown",
   "id": "0a41bb67-e4dd-46e6-accf-2b82051ba696",
   "metadata": {},
   "source": [
    "Now we are going to add Run Rate to the Match data that we have "
   ]
  },
  {
   "cell_type": "markdown",
   "id": "4b772579-349c-4fc4-b47e-bfaa2bc50a57",
   "metadata": {},
   "source": [
    "To get the run rate we need to add the total runs and update it to the match data"
   ]
  },
  {
   "cell_type": "code",
   "execution_count": 93,
   "id": "cc485eb4-20ce-42d5-87d6-662218259d21",
   "metadata": {
    "collapsed": true,
    "jupyter": {
     "outputs_hidden": true
    }
   },
   "outputs": [
    {
     "name": "stdout",
     "output_type": "stream",
     "text": [
      "   match_id  innings  ball  total_runs\n",
      "0   1389389        1  0.10        4.00\n",
      "1   1389389        1  0.20        0.00\n",
      "2   1389389        1  0.30        4.00\n",
      "3   1389389        1  0.40        0.00\n",
      "4   1389389        1  0.50        0.00\n"
     ]
    }
   ],
   "source": [
    "# Calculate total runs for each ball\n",
    "odi_match_data['total_runs'] = (\n",
    "    odi_match_data['runs_off_bat'] +\n",
    "    odi_match_data['wides'].fillna(0) +\n",
    "    odi_match_data['noballs'].fillna(0) +\n",
    "    odi_match_data['byes'].fillna(0) +\n",
    "    odi_match_data['legbyes'].fillna(0) +\n",
    "    odi_match_data['penalty'].fillna(0)\n",
    ")\n",
    "\n",
    "# Preview the updated DataFrame\n",
    "print(odi_match_data[['match_id', 'innings', 'ball', 'total_runs']].head())\n"
   ]
  },
  {
   "cell_type": "markdown",
   "id": "7f3e379d-d921-4c42-874f-02a46635ae0e",
   "metadata": {},
   "source": [
    "This has created a total runs for every ball, Now we have to create a column that is calculating the total runs in a innings after every ball."
   ]
  },
  {
   "cell_type": "code",
   "execution_count": 95,
   "id": "7e12a009-b783-481e-a2f1-5499a87f7127",
   "metadata": {
    "collapsed": true,
    "jupyter": {
     "outputs_hidden": true
    }
   },
   "outputs": [
    {
     "name": "stdout",
     "output_type": "stream",
     "text": [
      "   match_id  innings  ball  total_runs  cumulative_score\n",
      "0   1389389        1  0.10        4.00              4.00\n",
      "1   1389389        1  0.20        0.00              4.00\n",
      "2   1389389        1  0.30        4.00              8.00\n",
      "3   1389389        1  0.40        0.00              8.00\n",
      "4   1389389        1  0.50        0.00              8.00\n"
     ]
    }
   ],
   "source": [
    "# Calculate cumulative score for each innings\n",
    "odi_match_data['cumulative_score'] = (\n",
    "    odi_match_data.groupby(['match_id', 'innings'])['total_runs'].cumsum()\n",
    ")\n",
    "\n",
    "# Preview the updated DataFrame\n",
    "print(odi_match_data[['match_id', 'innings', 'ball', 'total_runs', 'cumulative_score']].head())\n"
   ]
  },
  {
   "cell_type": "markdown",
   "id": "2eb9bbe7-5757-4d71-af45-fdf174e8bd53",
   "metadata": {},
   "source": [
    "this has calculated the total innings run for every innings in our match data dataset "
   ]
  },
  {
   "cell_type": "markdown",
   "id": "2e8f0a39-ef97-40d4-acf0-33272552fb6e",
   "metadata": {},
   "source": [
    "Now we are going to visaulize this data "
   ]
  },
  {
   "cell_type": "code",
   "execution_count": 121,
   "id": "b55ee330-4c18-4960-b21d-41b8ee7a4ee7",
   "metadata": {
    "collapsed": true,
    "jupyter": {
     "outputs_hidden": true
    }
   },
   "outputs": [
    {
     "data": {
      "image/png": "[encoded data removed]",
      "text/plain": [
       "<Figure size 1000x600 with 1 Axes>"
      ]
     },
     "metadata": {},
     "output_type": "display_data"
    }
   ],
   "source": [
    "# Filter data for a specific match and innings (e.g., match_id=1389389, innings=1)\n",
    "filtered_data = odi_match_data[(odi_match_data['match_id'] == 1389389) & (odi_match_data['innings'] == 1)]\n",
    "\n",
    "# Plot the cumulative score over balls\n",
    "plt.figure(figsize=(10, 6))\n",
    "plt.plot(filtered_data['ball'], filtered_data['cumulative_score'], marker='o')\n",
    "plt.title(\"Cumulative Score Progression (Match ID: 1389389, Innings: 1)\")\n",
    "plt.xlabel(\"overs\")\n",
    "plt.ylabel(\"Cumulative Score\")\n",
    "plt.grid()\n",
    "plt.show()\n"
   ]
  },
  {
   "cell_type": "markdown",
   "id": "e13dd3b8-0b61-48b7-a970-2f03492b04b9",
   "metadata": {},
   "source": [
    "Now we have to add an overs column "
   ]
  },
  {
   "cell_type": "code",
   "execution_count": 133,
   "id": "1a0458a1-54e0-444b-b6b2-ead702244527",
   "metadata": {
    "collapsed": true,
    "jupyter": {
     "outputs_hidden": true
    },
    "scrolled": true
   },
   "outputs": [
    {
     "name": "stdout",
     "output_type": "stream",
     "text": [
      "    match_id  innings  ball\n",
      "0    1389389        1     1\n",
      "1    1389389        1     2\n",
      "2    1389389        1     3\n",
      "3    1389389        1     4\n",
      "4    1389389        1     5\n",
      "5    1389389        1     6\n",
      "7    1389389        1     7\n",
      "8    1389389        1     8\n",
      "9    1389389        1     9\n",
      "10   1389389        1    10\n"
     ]
    }
   ],
   "source": [
    "# Create a free-flowing ball sequence for each innings\n",
    "odi_match_data['ball'] = (\n",
    "    odi_match_data.groupby(['match_id', 'innings']).cumcount() + 1\n",
    ")\n",
    "\n",
    "# Preview the updated ball column\n",
    "print(odi_match_data[['match_id', 'innings', 'ball']].head(10))"
   ]
  },
  {
   "cell_type": "code",
   "execution_count": 135,
   "id": "98f0c17e-94f6-4bc0-8e59-22b40513a6ba",
   "metadata": {
    "collapsed": true,
    "jupyter": {
     "outputs_hidden": true
    }
   },
   "outputs": [
    {
     "name": "stdout",
     "output_type": "stream",
     "text": [
      "    match_id  innings  ball  overs\n",
      "0    1389389        1     1   0.10\n",
      "1    1389389        1     2   0.20\n",
      "2    1389389        1     3   0.30\n",
      "3    1389389        1     4   0.40\n",
      "4    1389389        1     5   0.50\n",
      "5    1389389        1     6   0.60\n",
      "7    1389389        1     7   1.10\n",
      "8    1389389        1     8   1.20\n",
      "9    1389389        1     9   1.30\n",
      "10   1389389        1    10   1.40\n"
     ]
    }
   ],
   "source": [
    "# Calculate overs column\n",
    "odi_match_data['overs'] = (\n",
    "    (odi_match_data['ball'] - 1) // 6 +  # Over number\n",
    "    ((odi_match_data['ball'] - 1) % 6 + 1) / 10  # Ball within the over\n",
    ")\n",
    "\n",
    "# Preview the updated overs column\n",
    "print(odi_match_data[['match_id', 'innings', 'ball', 'overs']].head(10))"
   ]
  },
  {
   "cell_type": "markdown",
   "id": "7b813b5c-7d3a-4dc9-a679-9a1347d060a8",
   "metadata": {},
   "source": [
    "Now we eill calculate the run rate "
   ]
  },
  {
   "cell_type": "code",
   "execution_count": 152,
   "id": "33849576-90c0-4d32-8853-67d87debbe35",
   "metadata": {
    "collapsed": true,
    "jupyter": {
     "outputs_hidden": true
    }
   },
   "outputs": [],
   "source": [
    "# Calculate the fraction of overs bowled based on balls\n",
    "odi_match_data['overs_bowled'] = odi_match_data['ball'] / 6"
   ]
  },
  {
   "cell_type": "code",
   "execution_count": 158,
   "id": "5331d901-9fec-4860-88f7-d528989b6f93",
   "metadata": {
    "collapsed": true,
    "jupyter": {
     "outputs_hidden": true
    }
   },
   "outputs": [
    {
     "name": "stdout",
     "output_type": "stream",
     "text": [
      "    match_id  innings  ball  overs_bowled  cumulative_score  run_rate\n",
      "0    1389389        1     1          0.17              4.00     24.00\n",
      "1    1389389        1     2          0.33              4.00     12.00\n",
      "2    1389389        1     3          0.50              8.00     16.00\n",
      "3    1389389        1     4          0.67              8.00     12.00\n",
      "4    1389389        1     5          0.83              8.00      9.60\n",
      "5    1389389        1     6          1.00             13.00     13.00\n",
      "7    1389389        1     7          1.17             13.00     11.14\n",
      "8    1389389        1     8          1.33             14.00     10.50\n",
      "9    1389389        1     9          1.50             14.00      9.33\n",
      "10   1389389        1    10          1.67             14.00      8.40\n"
     ]
    }
   ],
   "source": [
    "# Calculate the corrected run rate\n",
    "odi_match_data['run_rate'] = odi_match_data['cumulative_score'] / odi_match_data['overs_bowled']\n",
    "\n",
    "# Preview the corrected DataFrame\n",
    "print(odi_match_data[['match_id', 'innings', 'ball', 'overs_bowled', 'cumulative_score', 'run_rate']].head(10))"
   ]
  },
  {
   "cell_type": "markdown",
   "id": "87d22b66-48d1-4629-91d4-ab933310a9c2",
   "metadata": {},
   "source": [
    "Now we will visualize the run rate"
   ]
  },
  {
   "cell_type": "code",
   "execution_count": 161,
   "id": "cff4735f-1505-4e4b-a04d-e327382f68bd",
   "metadata": {
    "collapsed": true,
    "jupyter": {
     "outputs_hidden": true
    }
   },
   "outputs": [
    {
     "data": {
      "image/png": "[encoded data removed]",
      "text/plain": [
       "<Figure size 1000x600 with 1 Axes>"
      ]
     },
     "metadata": {},
     "output_type": "display_data"
    }
   ],
   "source": [
    "# Filter data for a specific match and innings (e.g., match_id=1389389, innings=1)\n",
    "filtered_data = odi_match_data[(odi_match_data['match_id'] == 1389389) & (odi_match_data['innings'] == 1)]\n",
    "\n",
    "# Plot the run rate progression\n",
    "plt.figure(figsize=(10, 6))\n",
    "plt.plot(filtered_data['overs_bowled'], filtered_data['run_rate'], marker='o', label='Run Rate')\n",
    "plt.title(\"Run Rate Progression (Match ID: 1389389, Innings: 1)\")\n",
    "plt.xlabel(\"Overs Bowled\")\n",
    "plt.ylabel(\"Run Rate\")\n",
    "plt.grid()\n",
    "plt.legend()\n",
    "plt.show()"
   ]
  },
  {
   "cell_type": "markdown",
   "id": "085f2f4e-dd3d-4d87-b134-2e0dfa9f3ca4",
   "metadata": {},
   "source": [
    "Now we will calculate the ageregated run rate "
   ]
  },
  {
   "cell_type": "code",
   "execution_count": 164,
   "id": "8c1e16ca-3dfb-46cc-8396-7538a530e18e",
   "metadata": {
    "collapsed": true,
    "jupyter": {
     "outputs_hidden": true
    }
   },
   "outputs": [
    {
     "name": "stdout",
     "output_type": "stream",
     "text": [
      "      match_id  innings  cumulative_score  overs_bowled  final_run_rate  \\\n",
      "0       247457        1            241.00         50.00            4.82   \n",
      "1       247457        2            187.00         47.33            3.95   \n",
      "2       247458        1            334.00         50.00            6.68   \n",
      "3       247458        2            131.00         40.17            3.26   \n",
      "4       247460        1            321.00         50.00            6.42   \n",
      "...        ...      ...               ...           ...             ...   \n",
      "3895   1390346        1            266.00         50.00            5.32   \n",
      "3896   1390346        2            209.00         48.67            4.29   \n",
      "3897   1395700        1            136.00         33.67            4.04   \n",
      "3898   1395701        1            254.00         49.33            5.15   \n",
      "3899   1395701        2            168.00         41.17            4.08   \n",
      "\n",
      "      average_run_rate  \n",
      "0                 3.69  \n",
      "1                 3.76  \n",
      "2                 5.41  \n",
      "3                 3.02  \n",
      "4                 6.00  \n",
      "...                ...  \n",
      "3895              3.83  \n",
      "3896              3.45  \n",
      "3897              3.28  \n",
      "3898              4.99  \n",
      "3899              4.26  \n",
      "\n",
      "[3900 rows x 6 columns]\n"
     ]
    }
   ],
   "source": [
    "# Final run rate for each innings\n",
    "final_run_rate = (\n",
    "    odi_match_data.groupby(['match_id', 'innings'])[['cumulative_score', 'overs_bowled']]\n",
    "    .last()\n",
    "    .reset_index()\n",
    ")\n",
    "final_run_rate['final_run_rate'] = final_run_rate['cumulative_score'] / final_run_rate['overs_bowled']\n",
    "\n",
    "# Average run rate over the innings\n",
    "average_run_rate = (\n",
    "    odi_match_data.groupby(['match_id', 'innings'])['run_rate']\n",
    "    .mean()\n",
    "    .reset_index()\n",
    "    .rename(columns={'run_rate': 'average_run_rate'})\n",
    ")\n",
    "\n",
    "# Merge the results for a complete view\n",
    "innings_summary = pd.merge(final_run_rate, average_run_rate, on=['match_id', 'innings'])\n",
    "\n",
    "# Preview the innings summary\n",
    "print(innings_summary)\n"
   ]
  },
  {
   "cell_type": "markdown",
   "id": "bdc86b55-5749-4836-befd-2802067c75f0",
   "metadata": {},
   "source": [
    "Now we will be saving this processed data "
   ]
  },
  {
   "cell_type": "code",
   "execution_count": 178,
   "id": "5ed07cff-e0c7-4b82-801f-47c314ecd081",
   "metadata": {
    "collapsed": true,
    "jupyter": {
     "outputs_hidden": true
    }
   },
   "outputs": [
    {
     "name": "stdout",
     "output_type": "stream",
     "text": [
      "   cumulative_score  overs_bowled  final_run_rate  average_run_rate  \\\n",
      "0              0.48          0.99            0.11              0.10   \n",
      "1              0.37          0.94            0.08              0.10   \n",
      "2              0.67          0.99            0.17              0.16   \n",
      "3              0.26          0.80            0.05              0.08   \n",
      "4              0.64          0.99            0.16              0.18   \n",
      "\n",
      "   match_id_encoded  innings_encoded  \n",
      "0                 0                0  \n",
      "1                 0                1  \n",
      "2                 1                0  \n",
      "3                 1                1  \n",
      "4                 2                0  \n"
     ]
    }
   ],
   "source": [
    "# Save the processed data to a CSV file\n",
    "odi_match_data.to_csv('processed_odi_match_data.csv', index=False)\n",
    "\n",
    "# Load the raw innings summary (replace with your actual file path if needed)\n",
    "innings_summary = pd.read_csv('innings_summary.csv')\n",
    "\n",
    "# Normalize numeric columns\n",
    "numeric_columns = ['cumulative_score', 'overs_bowled', 'final_run_rate', 'average_run_rate']\n",
    "scaler = MinMaxScaler()\n",
    "innings_summary_scaled = innings_summary.copy()\n",
    "innings_summary_scaled[numeric_columns] = scaler.fit_transform(innings_summary[numeric_columns])\n",
    "\n",
    "# Encode categorical columns\n",
    "encoder = LabelEncoder()\n",
    "innings_summary_scaled['match_id_encoded'] = encoder.fit_transform(innings_summary_scaled['match_id'])\n",
    "innings_summary_scaled['innings_encoded'] = encoder.fit_transform(innings_summary_scaled['innings'])\n",
    "\n",
    "# Drop original categorical columns\n",
    "innings_summary_scaled = innings_summary_scaled.drop(['match_id', 'innings'], axis=1)\n",
    "\n",
    "# Preview the final scaled DataFrame\n",
    "print(innings_summary_scaled.head())\n"
   ]
  },
  {
   "cell_type": "markdown",
   "id": "6cfa9a4f-6084-4d45-9133-85f31658aff8",
   "metadata": {},
   "source": [
    "Now we will load the processed data."
   ]
  },
  {
   "cell_type": "code",
   "execution_count": 180,
   "id": "86e85549-7f13-4d4f-ab21-e7191d5f871b",
   "metadata": {
    "collapsed": true,
    "jupyter": {
     "outputs_hidden": true
    }
   },
   "outputs": [
    {
     "name": "stdout",
     "output_type": "stream",
     "text": [
      "Processed dataset saved successfully!\n"
     ]
    }
   ],
   "source": [
    "# Save the processed dataset\n",
    "innings_summary_scaled.to_csv('processed_innings_summary.csv', index=False)\n",
    "\n",
    "print(\"Processed dataset saved successfully!\")"
   ]
  },
  {
   "cell_type": "code",
   "execution_count": 182,
   "id": "e796ec29-23cc-4b5f-a38a-bfe9c6b91038",
   "metadata": {
    "collapsed": true,
    "jupyter": {
     "outputs_hidden": true
    }
   },
   "outputs": [
    {
     "name": "stdout",
     "output_type": "stream",
     "text": [
      "   cumulative_score  overs_bowled  final_run_rate  average_run_rate  \\\n",
      "0              0.48          0.99            0.11              0.10   \n",
      "1              0.37          0.94            0.08              0.10   \n",
      "2              0.67          0.99            0.17              0.16   \n",
      "3              0.26          0.80            0.05              0.08   \n",
      "4              0.64          0.99            0.16              0.18   \n",
      "\n",
      "   match_id_encoded  innings_encoded  \n",
      "0                 0                0  \n",
      "1                 0                1  \n",
      "2                 1                0  \n",
      "3                 1                1  \n",
      "4                 2                0  \n"
     ]
    }
   ],
   "source": [
    "# Load the saved processed dataset\n",
    "data = pd.read_csv('processed_innings_summary.csv')\n",
    "\n",
    "# Preview the loaded data\n",
    "print(data.head())"
   ]
  },
  {
   "cell_type": "markdown",
   "id": "33158e0b-18ba-4274-8a80-90a18a0fc138",
   "metadata": {},
   "source": [
    "Now we will define the features and targets for the code"
   ]
  },
  {
   "cell_type": "code",
   "execution_count": 188,
   "id": "b36f50e9-d97b-4a72-a587-91d8b49b470c",
   "metadata": {
    "collapsed": true,
    "jupyter": {
     "outputs_hidden": true
    }
   },
   "outputs": [
    {
     "name": "stdout",
     "output_type": "stream",
     "text": [
      "Index(['cumulative_score', 'overs_bowled', 'final_run_rate',\n",
      "       'average_run_rate', 'match_id_encoded', 'innings_encoded'],\n",
      "      dtype='object')\n"
     ]
    }
   ],
   "source": [
    "# Print column names to verify\n",
    "print(data.columns)"
   ]
  },
  {
   "cell_type": "markdown",
   "id": "4494ab0c-6016-4a79-bf8e-cd540bc9fcc2",
   "metadata": {},
   "source": [
    "Here we are adding the column for match result"
   ]
  },
  {
   "cell_type": "code",
   "execution_count": 193,
   "id": "55c3e4ba-8a4e-4fe6-98f9-4d0dfbdcdade",
   "metadata": {
    "collapsed": true,
    "jupyter": {
     "outputs_hidden": true
    }
   },
   "outputs": [
    {
     "name": "stdout",
     "output_type": "stream",
     "text": [
      "   cumulative_score  match_result\n",
      "0              0.48             1\n",
      "1              0.37             0\n",
      "2              0.67             1\n",
      "3              0.26             0\n",
      "4              0.64             1\n"
     ]
    }
   ],
   "source": [
    "# Assuming you can derive the outcome from cumulative_score (example logic)\n",
    "data['match_result'] = (data['cumulative_score'] > data['cumulative_score'].shift(-1)).astype(int)\n",
    "\n",
    "# Verify the derived match result\n",
    "print(data[['cumulative_score', 'match_result']].head())"
   ]
  },
  {
   "cell_type": "code",
   "execution_count": 197,
   "id": "664846bf-2047-4700-9303-3bcc526e142c",
   "metadata": {
    "collapsed": true,
    "jupyter": {
     "outputs_hidden": true
    }
   },
   "outputs": [
    {
     "name": "stdout",
     "output_type": "stream",
     "text": [
      "Features (X):\n",
      "   cumulative_score  overs_bowled  final_run_rate  average_run_rate\n",
      "0              0.48          0.99            0.11              0.10\n",
      "1              0.37          0.94            0.08              0.10\n",
      "2              0.67          0.99            0.17              0.16\n",
      "3              0.26          0.80            0.05              0.08\n",
      "4              0.64          0.99            0.16              0.18\n",
      "\n",
      "Target (y):\n",
      "0    1\n",
      "1    0\n",
      "2    1\n",
      "3    0\n",
      "4    1\n",
      "Name: match_result, dtype: int32\n"
     ]
    }
   ],
   "source": [
    "# Define the feature columns and target column\n",
    "features = ['cumulative_score', 'overs_bowled', 'final_run_rate', 'average_run_rate']\n",
    "target = 'match_result'\n",
    "\n",
    "# Split the data into features (X) and target (y)\n",
    "X = data[features]\n",
    "y = data[target]\n",
    "# Preview features and target\n",
    "print(\"Features (X):\")\n",
    "print(X.head())\n",
    "print(\"\\nTarget (y):\")\n",
    "print(y.head())\n"
   ]
  },
  {
   "cell_type": "markdown",
   "id": "3930aac8-88ea-463c-93d6-bc23b190101d",
   "metadata": {},
   "source": [
    "Now we are going to split the data into testing and training."
   ]
  },
  {
   "cell_type": "code",
   "execution_count": 200,
   "id": "2a1af0d1-9a43-4deb-9a53-c4377b0a4c70",
   "metadata": {
    "collapsed": true,
    "jupyter": {
     "outputs_hidden": true
    }
   },
   "outputs": [
    {
     "name": "stdout",
     "output_type": "stream",
     "text": [
      "Training set shape (X_train): (3120, 4)\n",
      "Testing set shape (X_test): (780, 4)\n"
     ]
    }
   ],
   "source": [
    "from sklearn.model_selection import train_test_split\n",
    "\n",
    "# Split the data\n",
    "X_train, X_test, y_train, y_test = train_test_split(X, y, test_size=0.2, random_state=42)\n",
    "\n",
    "# Print the shape of the splits\n",
    "print(\"Training set shape (X_train):\", X_train.shape)\n",
    "print(\"Testing set shape (X_test):\", X_test.shape)"
   ]
  },
  {
   "cell_type": "markdown",
   "id": "c25a1f90-fc20-4e85-9cf2-91440d8d9688",
   "metadata": {},
   "source": [
    "Now we will train the machine learning model"
   ]
  },
  {
   "cell_type": "code",
   "execution_count": 203,
   "id": "7dac7a42-4409-4c56-91ab-d18ce17b955f",
   "metadata": {
    "collapsed": true,
    "jupyter": {
     "outputs_hidden": true
    }
   },
   "outputs": [
    {
     "name": "stdout",
     "output_type": "stream",
     "text": [
      "Model training completed!\n"
     ]
    }
   ],
   "source": [
    "# Initialize the Random Forest model\n",
    "model = RandomForestClassifier(random_state=42, n_estimators=100)\n",
    "\n",
    "# Train the model\n",
    "model.fit(X_train, y_train)\n",
    "\n",
    "print(\"Model training completed!\")"
   ]
  },
  {
   "cell_type": "markdown",
   "id": "54def6ec-f234-4fcb-aa32-dd758a3ed3f3",
   "metadata": {},
   "source": [
    "Now we will evaluate the model "
   ]
  },
  {
   "cell_type": "code",
   "execution_count": 206,
   "id": "b18b2172-cc45-4389-a98f-76e1cb882e11",
   "metadata": {
    "collapsed": true,
    "jupyter": {
     "outputs_hidden": true
    }
   },
   "outputs": [
    {
     "name": "stdout",
     "output_type": "stream",
     "text": [
      "Model Accuracy: 0.6858974358974359\n",
      "\n",
      "Classification Report:\n",
      "              precision    recall  f1-score   support\n",
      "\n",
      "           0       0.71      0.78      0.75       458\n",
      "           1       0.64      0.55      0.59       322\n",
      "\n",
      "    accuracy                           0.69       780\n",
      "   macro avg       0.68      0.67      0.67       780\n",
      "weighted avg       0.68      0.69      0.68       780\n",
      "\n",
      "\n",
      "Confusion Matrix:\n",
      "[[358 100]\n",
      " [145 177]]\n"
     ]
    }
   ],
   "source": [
    "from sklearn.metrics import accuracy_score, classification_report, confusion_matrix\n",
    "\n",
    "# Make predictions on the testing set\n",
    "y_pred = model.predict(X_test)\n",
    "\n",
    "# Calculate accuracy\n",
    "accuracy = accuracy_score(y_test, y_pred)\n",
    "print(\"Model Accuracy:\", accuracy)\n",
    "\n",
    "# Print a detailed classification report\n",
    "print(\"\\nClassification Report:\")\n",
    "print(classification_report(y_test, y_pred))\n",
    "\n",
    "# Display confusion matrix\n",
    "print(\"\\nConfusion Matrix:\")\n",
    "print(confusion_matrix(y_test, y_pred))"
   ]
  },
  {
   "cell_type": "markdown",
   "id": "f97d81f5-57cd-4f45-8925-bd3f1b9651c4",
   "metadata": {},
   "source": [
    "Nlow we will save the model "
   ]
  },
  {
   "cell_type": "code",
   "execution_count": 211,
   "id": "124694f9-05c9-4860-9200-0130da79d7d5",
   "metadata": {
    "collapsed": true,
    "jupyter": {
     "outputs_hidden": true
    }
   },
   "outputs": [
    {
     "name": "stdout",
     "output_type": "stream",
     "text": [
      "Model saved successfully!\n"
     ]
    }
   ],
   "source": [
    "import joblib\n",
    "\n",
    "# Save the model to a file\n",
    "joblib.dump(model, 'cricket_win_predictor_model.pkl')\n",
    "\n",
    "print(\"Model saved successfully!\")"
   ]
  },
  {
   "cell_type": "markdown",
   "id": "54c45b12-4048-4799-97b2-a4b574409219",
   "metadata": {},
   "source": [
    "Now we will use the model for predictions "
   ]
  },
  {
   "cell_type": "code",
   "execution_count": 218,
   "id": "0a508df2-a5f8-4a54-8cf2-b6ff57554560",
   "metadata": {
    "collapsed": true,
    "jupyter": {
     "outputs_hidden": true
    }
   },
   "outputs": [
    {
     "name": "stdout",
     "output_type": "stream",
     "text": [
      "Prediction (1 = Win, 0 = Lose): 1\n"
     ]
    }
   ],
   "source": [
    "# Define feature names used during training\n",
    "feature_names = ['cumulative_score', 'overs_bowled', 'final_run_rate', 'average_run_rate']\n",
    "\n",
    "# Create a DataFrame for the new data point\n",
    "new_data = pd.DataFrame([[250, 50, 5.0, 4.8]], columns=feature_names)\n",
    "\n",
    "# Predict the outcome using the loaded model\n",
    "prediction = loaded_model.predict(new_data)\n",
    "\n",
    "# Output the prediction\n",
    "print(\"Prediction (1 = Win, 0 = Lose):\", prediction[0])"
   ]
  },
  {
   "cell_type": "code",
   "execution_count": 220,
   "id": "7a54fccf-e77e-4e4d-b148-8ba1d598af27",
   "metadata": {
    "collapsed": true,
    "jupyter": {
     "outputs_hidden": true
    }
   },
   "outputs": [
    {
     "name": "stdout",
     "output_type": "stream",
     "text": [
      "Model Accuracy: 0.6858974358974359\n",
      "\n",
      "Classification Report:\n",
      "              precision    recall  f1-score   support\n",
      "\n",
      "           0       0.71      0.78      0.75       458\n",
      "           1       0.64      0.55      0.59       322\n",
      "\n",
      "    accuracy                           0.69       780\n",
      "   macro avg       0.68      0.67      0.67       780\n",
      "weighted avg       0.68      0.69      0.68       780\n",
      "\n"
     ]
    }
   ],
   "source": [
    "from sklearn.metrics import accuracy_score, classification_report\n",
    "\n",
    "# Predict outcomes for the test data\n",
    "y_pred = loaded_model.predict(X_test)\n",
    "\n",
    "# Calculate accuracy\n",
    "accuracy = accuracy_score(y_test, y_pred)\n",
    "print(\"Model Accuracy:\", accuracy)\n",
    "\n",
    "# Detailed classification report\n",
    "print(\"\\nClassification Report:\")\n",
    "print(classification_report(y_test, y_pred))"
   ]
  },
  {
   "cell_type": "code",
   "execution_count": 222,
   "id": "5c6af5f6-23b0-4894-b580-e65fd9b82fb7",
   "metadata": {
    "collapsed": true,
    "jupyter": {
     "outputs_hidden": true
    }
   },
   "outputs": [
    {
     "name": "stdout",
     "output_type": "stream",
     "text": [
      "Fitting 5 folds for each of 108 candidates, totalling 540 fits\n",
      "Best Parameters: {'max_depth': 10, 'min_samples_leaf': 1, 'min_samples_split': 10, 'n_estimators': 100}\n",
      "Best Cross-Validated Accuracy: 0.7099358974358975\n"
     ]
    }
   ],
   "source": [
    "from sklearn.model_selection import GridSearchCV\n",
    "\n",
    "# Define the parameter grid\n",
    "param_grid = {\n",
    "    'n_estimators': [50, 100, 200],  # Number of trees\n",
    "    'max_depth': [None, 10, 20, 30],  # Maximum tree depth\n",
    "    'min_samples_split': [2, 5, 10],  # Minimum samples to split an internal node\n",
    "    'min_samples_leaf': [1, 2, 4],  # Minimum samples per leaf\n",
    "}\n",
    "\n",
    "# Initialize the model\n",
    "rf = RandomForestClassifier(random_state=42)\n",
    "\n",
    "# Perform Grid Search\n",
    "grid_search = GridSearchCV(estimator=rf, param_grid=param_grid, cv=5, scoring='accuracy', verbose=2, n_jobs=-1)\n",
    "grid_search.fit(X_train, y_train)\n",
    "\n",
    "# Get the best model\n",
    "best_model = grid_search.best_estimator_\n",
    "\n",
    "print(\"Best Parameters:\", grid_search.best_params_)\n",
    "print(\"Best Cross-Validated Accuracy:\", grid_search.best_score_)"
   ]
  },
  {
   "cell_type": "markdown",
   "id": "e57780e5-1b19-44c9-8b7c-0ffa018692c2",
   "metadata": {},
   "source": [
    "Now we will evaluate the best model on the test set "
   ]
  },
  {
   "cell_type": "code",
   "execution_count": 225,
   "id": "9f405792-4a0a-4c2e-9c1d-c79786ebe500",
   "metadata": {
    "collapsed": true,
    "jupyter": {
     "outputs_hidden": true
    }
   },
   "outputs": [
    {
     "name": "stdout",
     "output_type": "stream",
     "text": [
      "Test Accuracy: 0.7192307692307692\n",
      "\n",
      "Classification Report:\n",
      "              precision    recall  f1-score   support\n",
      "\n",
      "           0       0.75      0.79      0.77       458\n",
      "           1       0.67      0.62      0.65       322\n",
      "\n",
      "    accuracy                           0.72       780\n",
      "   macro avg       0.71      0.71      0.71       780\n",
      "weighted avg       0.72      0.72      0.72       780\n",
      "\n",
      "\n",
      "Confusion Matrix:\n",
      "[[360  98]\n",
      " [121 201]]\n"
     ]
    }
   ],
   "source": [
    "from sklearn.metrics import accuracy_score, classification_report, confusion_matrix\n",
    "\n",
    "# Make predictions on the test data\n",
    "y_pred = best_model.predict(X_test)\n",
    "\n",
    "# Calculate accuracy\n",
    "test_accuracy = accuracy_score(y_test, y_pred)\n",
    "print(\"Test Accuracy:\", test_accuracy)\n",
    "\n",
    "# Classification report\n",
    "print(\"\\nClassification Report:\")\n",
    "print(classification_report(y_test, y_pred))\n",
    "\n",
    "# Confusion matrix\n",
    "print(\"\\nConfusion Matrix:\")\n",
    "print(confusion_matrix(y_test, y_pred))"
   ]
  },
  {
   "cell_type": "markdown",
   "id": "d51f24d6-e25f-40f1-ba18-7ccbf5ec45ce",
   "metadata": {},
   "source": [
    "now we will analyze the feature importance "
   ]
  },
  {
   "cell_type": "code",
   "execution_count": 228,
   "id": "2683b402-f25a-4f88-aac5-bddd412269dd",
   "metadata": {
    "collapsed": true,
    "jupyter": {
     "outputs_hidden": true
    }
   },
   "outputs": [
    {
     "name": "stdout",
     "output_type": "stream",
     "text": [
      "\n",
      "Feature Importances:\n",
      "            Feature  Importance\n",
      "0  cumulative_score        0.43\n",
      "2    final_run_rate        0.21\n",
      "1      overs_bowled        0.19\n",
      "3  average_run_rate        0.17\n"
     ]
    },
    {
     "data": {
      "image/png": "[encoded data removed]",
      "text/plain": [
       "<Figure size 1000x600 with 1 Axes>"
      ]
     },
     "metadata": {},
     "output_type": "display_data"
    }
   ],
   "source": [
    "# Get feature importances\n",
    "feature_importances = pd.DataFrame({\n",
    "    'Feature': X_train.columns,\n",
    "    'Importance': best_model.feature_importances_\n",
    "}).sort_values(by='Importance', ascending=False)\n",
    "\n",
    "# Display feature importances\n",
    "print(\"\\nFeature Importances:\")\n",
    "print(feature_importances)\n",
    "\n",
    "# Plot feature importances\n",
    "plt.figure(figsize=(10, 6))\n",
    "plt.barh(feature_importances['Feature'], feature_importances['Importance'])\n",
    "plt.gca().invert_yaxis()\n",
    "plt.title(\"Feature Importance\")\n",
    "plt.xlabel(\"Importance\")\n",
    "plt.ylabel(\"Feature\")\n",
    "plt.show()"
   ]
  },
  {
   "cell_type": "markdown",
   "id": "e0e4a600-95e9-404f-9ce8-e92a7a4db2dc",
   "metadata": {},
   "source": [
    "Now we are going to Implement a basic win predictor "
   ]
  },
  {
   "cell_type": "code",
   "execution_count": 258,
   "id": "827d0636-1ab1-47b8-b667-5976fe28e51a",
   "metadata": {
    "collapsed": true,
    "jupyter": {
     "outputs_hidden": true
    }
   },
   "outputs": [
    {
     "name": "stdout",
     "output_type": "stream",
     "text": [
      "Test Accuracy: 0.7192307692307692\n",
      "\n",
      "Classification Report:\n",
      "              precision    recall  f1-score   support\n",
      "\n",
      "           0       0.75      0.79      0.77       458\n",
      "           1       0.67      0.62      0.65       322\n",
      "\n",
      "    accuracy                           0.72       780\n",
      "   macro avg       0.71      0.71      0.71       780\n",
      "weighted avg       0.72      0.72      0.72       780\n",
      "\n",
      "\n",
      "Confusion Matrix:\n",
      "[[360  98]\n",
      " [121 201]]\n"
     ]
    }
   ],
   "source": [
    "from sklearn.metrics import accuracy_score, classification_report, confusion_matrix\n",
    "\n",
    "# Predict outcomes on the test set\n",
    "y_pred = best_model.predict(X_test)\n",
    "\n",
    "# Evaluate accuracy\n",
    "accuracy = accuracy_score(y_test, y_pred)\n",
    "print(\"Test Accuracy:\", accuracy)\n",
    "\n",
    "# Print classification report\n",
    "print(\"\\nClassification Report:\")\n",
    "print(classification_report(y_test, y_pred))\n",
    "\n",
    "# Display confusion matrix\n",
    "print(\"\\nConfusion Matrix:\")\n",
    "print(confusion_matrix(y_test, y_pred))"
   ]
  },
  {
   "cell_type": "markdown",
   "id": "105b2a66-c15d-404b-8647-68da14fddb1e",
   "metadata": {},
   "source": [
    "Now we will save the basic model "
   ]
  },
  {
   "cell_type": "code",
   "execution_count": 264,
   "id": "768dbdae-c3a5-4d44-95da-da01a7688290",
   "metadata": {
    "collapsed": true,
    "jupyter": {
     "outputs_hidden": true
    }
   },
   "outputs": [
    {
     "name": "stdout",
     "output_type": "stream",
     "text": [
      "Model saved successfully!\n"
     ]
    }
   ],
   "source": [
    "import joblib\n",
    "\n",
    "# Save the model\n",
    "joblib.dump(best_model, 'basic_match_win_predictor.pkl')\n",
    "print(\"Model saved successfully!\")"
   ]
  },
  {
   "cell_type": "markdown",
   "id": "0ef7a8aa-d1e4-4817-ada6-ef7b64b40109",
   "metadata": {},
   "source": [
    "Now we will load the model to predict on new matches"
   ]
  },
  {
   "cell_type": "code",
   "execution_count": 269,
   "id": "31a00ae3-1e04-484e-be47-b483950d8ca7",
   "metadata": {
    "collapsed": true,
    "jupyter": {
     "outputs_hidden": true
    }
   },
   "outputs": [
    {
     "name": "stdout",
     "output_type": "stream",
     "text": [
      "Prediction (1 = Win, 0 = Loss): 1\n"
     ]
    }
   ],
   "source": [
    "# Include all features used during training\n",
    "new_match_data = pd.DataFrame([{\n",
    "    'cumulative_score': 250,\n",
    "    'overs_bowled': 50,\n",
    "    'final_run_rate': 5.0,\n",
    "    'average_run_rate': 4.5  # Add this based on a realistic value\n",
    "}])\n",
    "\n",
    "# Make predictions\n",
    "prediction = loaded_model.predict(new_match_data)\n",
    "print(\"Prediction (1 = Win, 0 = Loss):\", prediction[0])"
   ]
  },
  {
   "cell_type": "code",
   "execution_count": 271,
   "id": "6cb8db7f-72fc-4386-865a-b32734ad13c3",
   "metadata": {
    "collapsed": true,
    "jupyter": {
     "outputs_hidden": true
    }
   },
   "outputs": [
    {
     "name": "stdout",
     "output_type": "stream",
     "text": [
      "Feature names during training: ['cumulative_score' 'overs_bowled' 'final_run_rate' 'average_run_rate']\n"
     ]
    }
   ],
   "source": [
    "# Get the feature names used during training\n",
    "print(\"Feature names during training:\", loaded_model.feature_names_in_)"
   ]
  },
  {
   "cell_type": "code",
   "execution_count": 273,
   "id": "0e805436-4aa4-4e0f-b2aa-61a811b85393",
   "metadata": {
    "collapsed": true,
    "jupyter": {
     "outputs_hidden": true
    }
   },
   "outputs": [
    {
     "name": "stdout",
     "output_type": "stream",
     "text": [
      "Index(['cumulative_score', 'overs_bowled', 'final_run_rate',\n",
      "       'average_run_rate'],\n",
      "      dtype='object')\n"
     ]
    }
   ],
   "source": [
    "print(X_train.columns)"
   ]
  },
  {
   "cell_type": "code",
   "execution_count": 275,
   "id": "8816a5d3-588d-44fe-b15d-da24358b8364",
   "metadata": {
    "collapsed": true,
    "jupyter": {
     "outputs_hidden": true
    }
   },
   "outputs": [
    {
     "name": "stdout",
     "output_type": "stream",
     "text": [
      "Prediction (1 = Win, 0 = Loss): 1\n"
     ]
    }
   ],
   "source": [
    "import pandas as pd\n",
    "import joblib\n",
    "\n",
    "# Load the model\n",
    "loaded_model = joblib.load('basic_match_win_predictor.pkl')\n",
    "\n",
    "# Ensure all features are included\n",
    "new_match_data = pd.DataFrame([{\n",
    "    'cumulative_score': 250,\n",
    "    'overs_bowled': 50,\n",
    "    'final_run_rate': 5.0,\n",
    "    'average_run_rate': 4.5  # Ensure this matches the training dataset\n",
    "}])\n",
    "\n",
    "# Make predictions\n",
    "prediction = loaded_model.predict(new_match_data)\n",
    "print(\"Prediction (1 = Win, 0 = Loss):\", prediction[0])"
   ]
  },
  {
   "cell_type": "markdown",
   "id": "486fc43f-43af-475c-a8fd-a303b828aea2",
   "metadata": {},
   "source": [
    "Evaluate the model "
   ]
  },
  {
   "cell_type": "code",
   "execution_count": 278,
   "id": "3bb7e88a-2ff8-4e27-986a-b2d00a9c595d",
   "metadata": {
    "collapsed": true,
    "jupyter": {
     "outputs_hidden": true
    }
   },
   "outputs": [
    {
     "name": "stdout",
     "output_type": "stream",
     "text": [
      "Test Accuracy: 0.7192307692307692\n",
      "\n",
      "Classification Report:\n",
      "              precision    recall  f1-score   support\n",
      "\n",
      "           0       0.75      0.79      0.77       458\n",
      "           1       0.67      0.62      0.65       322\n",
      "\n",
      "    accuracy                           0.72       780\n",
      "   macro avg       0.71      0.71      0.71       780\n",
      "weighted avg       0.72      0.72      0.72       780\n",
      "\n",
      "\n",
      "Confusion Matrix:\n",
      "[[360  98]\n",
      " [121 201]]\n"
     ]
    }
   ],
   "source": [
    "from sklearn.metrics import accuracy_score, classification_report, confusion_matrix\n",
    "\n",
    "# Predict on the test set\n",
    "y_pred = loaded_model.predict(X_test)\n",
    "\n",
    "# Accuracy score\n",
    "print(\"Test Accuracy:\", accuracy_score(y_test, y_pred))\n",
    "\n",
    "# Classification report\n",
    "print(\"\\nClassification Report:\")\n",
    "print(classification_report(y_test, y_pred))\n",
    "\n",
    "# Confusion matrix\n",
    "print(\"\\nConfusion Matrix:\")\n",
    "print(confusion_matrix(y_test, y_pred))"
   ]
  },
  {
   "cell_type": "code",
   "execution_count": 280,
   "id": "0b93ee15-0389-4990-a814-b47f93df791f",
   "metadata": {
    "collapsed": true,
    "jupyter": {
     "outputs_hidden": true
    }
   },
   "outputs": [
    {
     "name": "stdout",
     "output_type": "stream",
     "text": [
      "Model saved successfully!\n"
     ]
    }
   ],
   "source": [
    "import joblib\n",
    "\n",
    "# Save the trained model\n",
    "joblib.dump(loaded_model, 'cricket_win_predictor.pkl')\n",
    "print(\"Model saved successfully!\")"
   ]
  },
  {
   "cell_type": "code",
   "execution_count": 282,
   "id": "79bcc54e-8282-4aa1-891b-c48a6875ec39",
   "metadata": {
    "collapsed": true,
    "jupyter": {
     "outputs_hidden": true
    }
   },
   "outputs": [
    {
     "name": "stdout",
     "output_type": "stream",
     "text": [
      "Match Result: Win\n"
     ]
    }
   ],
   "source": [
    "# Load the model\n",
    "loaded_model = joblib.load('cricket_win_predictor.pkl')\n",
    "\n",
    "# Create a new match scenario\n",
    "new_data = pd.DataFrame([{\n",
    "    'cumulative_score': 270,\n",
    "    'overs_bowled': 50,\n",
    "    'final_run_rate': 5.4,\n",
    "    'average_run_rate': 5.2\n",
    "}])\n",
    "\n",
    "# Predict match result\n",
    "result = loaded_model.predict(new_data)\n",
    "print(\"Match Result:\", \"Win\" if result[0] == 1 else \"Loss\")"
   ]
  },
  {
   "cell_type": "markdown",
   "id": "4b61d17c-d165-4e6e-9225-ad66fedcd75f",
   "metadata": {},
   "source": [
    "Now we will enhance the model"
   ]
  },
  {
   "cell_type": "code",
   "execution_count": 285,
   "id": "317e3bda-35ad-43ed-a27d-8febe1082fff",
   "metadata": {
    "collapsed": true,
    "jupyter": {
     "outputs_hidden": true
    }
   },
   "outputs": [
    {
     "name": "stdout",
     "output_type": "stream",
     "text": [
      "Best Parameters: {'max_depth': 10, 'min_samples_leaf': 1, 'min_samples_split': 5, 'n_estimators': 50}\n"
     ]
    }
   ],
   "source": [
    "from sklearn.model_selection import GridSearchCV\n",
    "\n",
    "param_grid = {\n",
    "    'n_estimators': [50, 100, 200],\n",
    "    'max_depth': [None, 10, 20],\n",
    "    'min_samples_split': [2, 5],\n",
    "    'min_samples_leaf': [1, 2]\n",
    "}\n",
    "\n",
    "grid_search = GridSearchCV(estimator=loaded_model, param_grid=param_grid, cv=5, scoring='accuracy')\n",
    "grid_search.fit(X_train, y_train)\n",
    "\n",
    "print(\"Best Parameters:\", grid_search.best_params_)\n",
    "best_model = grid_search.best_estimator_"
   ]
  },
  {
   "cell_type": "markdown",
   "id": "8993598b-7df4-4c81-bcf8-d09b28509a90",
   "metadata": {},
   "source": [
    "here we are going to map the team strength "
   ]
  },
  {
   "cell_type": "code",
   "execution_count": 291,
   "id": "f2a71723-cc28-4de6-8d46-090332180cac",
   "metadata": {},
   "outputs": [
    {
     "name": "stdout",
     "output_type": "stream",
     "text": [
      "        id   season        city       date        team1       team2  \\\n",
      "0  1389389  2023/24      Indore 2023-09-24        India   Australia   \n",
      "1  1336129     2023  Nottingham 2023-09-23      England     Ireland   \n",
      "2  1395701     2023       Dhaka 2023-09-23  New Zealand  Bangladesh   \n",
      "3  1389388  2023/24  Chandigarh 2023-09-22    Australia       India   \n",
      "4  1395700     2023       Dhaka 2023-09-21  New Zealand  Bangladesh   \n",
      "\n",
      "   toss_winner toss_decision  result  dl_applied       winner  win_by_runs  \\\n",
      "0    Australia         field     D/L           1        India           99   \n",
      "1      Ireland         field  normal           0      England           48   \n",
      "2  New Zealand           bat  normal           0  New Zealand           86   \n",
      "3        India         field  normal           0        India            0   \n",
      "4   Bangladesh         field  normal           0          NaN            0   \n",
      "\n",
      "   win_by_wickets player_of_match  \\\n",
      "0               0         SS Iyer   \n",
      "1               0        WG Jacks   \n",
      "2               0        IS Sodhi   \n",
      "3               5  Mohammed Shami   \n",
      "4               0             NaN   \n",
      "\n",
      "                                               venue                umpire1  \\\n",
      "0                     Holkar Cricket Stadium, Indore          J Madanagopal   \n",
      "1                           Trent Bridge, Nottingham              DJ Millns   \n",
      "2              Shere Bangla National Stadium, Mirpur              M Erasmus   \n",
      "3  Punjab Cricket Association IS Bindra Stadium, ...  KN Ananthapadmanabhan   \n",
      "4              Shere Bangla National Stadium, Mirpur            Nitin Menon   \n",
      "\n",
      "           umpire2                umpire3  \n",
      "0  HDPK Dharmasena  KN Ananthapadmanabhan  \n",
      "1        RJ Tucker             PR Reiffel  \n",
      "2     Sharfuddoula            Nitin Menon  \n",
      "3  HDPK Dharmasena          J Madanagopal  \n",
      "4     Sharfuddoula              M Erasmus  \n"
     ]
    }
   ],
   "source": [
    "import pandas as pd\n",
    "\n",
    "# Load the match info dataset\n",
    "odi_match_info = pd.read_excel(r\"C:\\Aadi\\python projects\\Cricket Win predictor for ODI\\Dataset\\ODI_Match_info.xlsx\")\n",
    "\n",
    "# Display the first few rows to verify\n",
    "print(odi_match_info.head())\n"
   ]
  },
  {
   "cell_type": "code",
   "execution_count": 293,
   "id": "ba1ae397-10d8-49bd-a485-3e26070de1bf",
   "metadata": {},
   "outputs": [
    {
     "name": "stdout",
     "output_type": "stream",
     "text": [
      "Unique Teams: ['India' 'England' 'New Zealand' 'Australia' 'Sri Lanka' 'South Africa'\n",
      " 'Bangladesh' 'Pakistan' 'Nepal' 'Afghanistan' 'West Indies' 'Scotland'\n",
      " 'United Arab Emirates' 'Oman' 'Netherlands' 'Zimbabwe'\n",
      " 'United States of America' 'Ireland' 'Canada' 'Namibia' 'Jersey'\n",
      " 'Papua New Guinea' 'Hong Kong' 'Kenya' 'Africa XI' 'Bermuda' 'Asia XI'\n",
      " 'ICC World XI']\n"
     ]
    }
   ],
   "source": [
    "# Extract unique team names from both columns\n",
    "teams = pd.concat([odi_match_info['team1'], odi_match_info['team2']]).unique()\n",
    "\n",
    "# Display the unique teams\n",
    "print(\"Unique Teams:\", teams)\n"
   ]
  },
  {
   "cell_type": "markdown",
   "id": "eeb6788d-77b3-410c-b73a-d6a63a83d7f0",
   "metadata": {},
   "source": [
    "Now we will calculte the strength of the teams "
   ]
  },
  {
   "cell_type": "code",
   "execution_count": 296,
   "id": "6040ee25-c410-40c4-9949-15d10f4b9206",
   "metadata": {},
   "outputs": [
    {
     "name": "stdout",
     "output_type": "stream",
     "text": [
      "                        Team  Win_Percentage\n",
      "0                      India           59.06\n",
      "1                    England           51.48\n",
      "2                New Zealand           52.12\n",
      "3                  Australia           62.36\n",
      "4                  Sri Lanka           46.72\n",
      "5               South Africa           59.55\n",
      "6                 Bangladesh           41.29\n",
      "7                   Pakistan           51.55\n",
      "8                      Nepal           50.00\n",
      "9                Afghanistan           45.53\n",
      "10               West Indies           37.26\n",
      "11                  Scotland           45.92\n",
      "12      United Arab Emirates           36.56\n",
      "13                      Oman           48.89\n",
      "14               Netherlands           26.98\n",
      "15                  Zimbabwe           23.18\n",
      "16  United States of America           44.00\n",
      "17                   Ireland           35.10\n",
      "18                    Canada           27.03\n",
      "19                   Namibia           47.73\n",
      "20                    Jersey           25.00\n",
      "21          Papua New Guinea           19.64\n",
      "22                 Hong Kong           33.33\n",
      "23                     Kenya           31.71\n",
      "24                 Africa XI           20.00\n",
      "25                   Bermuda           16.67\n",
      "26                   Asia XI           60.00\n",
      "27              ICC World XI            0.00\n"
     ]
    }
   ],
   "source": [
    "# Initialize a dictionary to store team statistics\n",
    "team_stats = {}\n",
    "\n",
    "# Iterate through each team\n",
    "for team in teams:\n",
    "    total_matches = len(odi_match_info[(odi_match_info['team1'] == team) | (odi_match_info['team2'] == team)])\n",
    "    wins = len(odi_match_info[odi_match_info['winner'] == team])\n",
    "    win_percentage = (wins / total_matches) * 100 if total_matches > 0 else 0\n",
    "    team_stats[team] = win_percentage\n",
    "\n",
    "# Convert the dictionary to a DataFrame\n",
    "team_strength_df = pd.DataFrame(list(team_stats.items()), columns=['Team', 'Win_Percentage'])\n",
    "\n",
    "# Display the team strength DataFrame\n",
    "print(team_strength_df)\n"
   ]
  },
  {
   "cell_type": "code",
   "execution_count": 298,
   "id": "e209d2aa-8d4e-402b-845c-58fd3abf73eb",
   "metadata": {},
   "outputs": [
    {
     "name": "stdout",
     "output_type": "stream",
     "text": [
      "         team1       team2  team1_strength  team2_strength\n",
      "0        India   Australia           59.06           62.36\n",
      "1      England     Ireland           51.48           35.10\n",
      "2  New Zealand  Bangladesh           52.12           41.29\n",
      "3    Australia       India           62.36           59.06\n",
      "4  New Zealand  Bangladesh           52.12           41.29\n"
     ]
    }
   ],
   "source": [
    "# Map team strength to the dataset\n",
    "odi_match_info['team1_strength'] = odi_match_info['team1'].map(team_stats)\n",
    "odi_match_info['team2_strength'] = odi_match_info['team2'].map(team_stats)\n",
    "\n",
    "# Display the updated dataset\n",
    "print(odi_match_info[['team1', 'team2', 'team1_strength', 'team2_strength']].head())\n"
   ]
  },
  {
   "cell_type": "code",
   "execution_count": 300,
   "id": "bc1612b8-4fa0-4866-8a53-9b2bd4e970dd",
   "metadata": {},
   "outputs": [
    {
     "name": "stdout",
     "output_type": "stream",
     "text": [
      "Updated dataset saved successfully!\n"
     ]
    }
   ],
   "source": [
    "# Save the updated dataset to a new Excel file\n",
    "odi_match_info.to_excel(r\"C:\\Aadi\\python projects\\Cricket Win predictor for ODI\\Dataset\\ODI_Match_info_with_strength.xlsx\", index=False)\n",
    "\n",
    "print(\"Updated dataset saved successfully!\")\n"
   ]
  },
  {
   "cell_type": "markdown",
   "id": "66473f25-02c3-43c8-9072-2c48061f2d3e",
   "metadata": {},
   "source": [
    "Now we will update the venue like we updated the teams "
   ]
  },
  {
   "cell_type": "code",
   "execution_count": 303,
   "id": "54dd3803-0a95-496c-b4de-5510cd938412",
   "metadata": {},
   "outputs": [
    {
     "name": "stdout",
     "output_type": "stream",
     "text": [
      "Unique Venues:\n",
      "['Holkar Cricket Stadium, Indore' 'Trent Bridge, Nottingham'\n",
      " 'Shere Bangla National Stadium, Mirpur'\n",
      " 'Punjab Cricket Association IS Bindra Stadium, Mohali, Chandigarh'\n",
      " 'R Premadasa Stadium, Colombo' 'The Wanderers Stadium, Johannesburg'\n",
      " \"Lord's, London\" 'SuperSport Park, Centurion' 'Kennington Oval, London'\n",
      " 'Sedgars Park, Potchefstroom' 'The Rose Bowl, Southampton'\n",
      " 'Mangaung Oval, Bloemfontein' 'Sophia Gardens, Cardiff'\n",
      " 'Gaddafi Stadium, Lahore' 'Pallekele International Cricket Stadium'\n",
      " 'Multan Cricket Stadium'\n",
      " 'Mahinda Rajapaksa International Cricket Stadium, Sooriyawewa, Hambantota'\n",
      " 'Brian Lara Stadium, Tarouba, Trinidad'\n",
      " 'Kensington Oval, Bridgetown, Barbados'\n",
      " 'Zahur Ahmed Chowdhury Stadium, Chattogram' 'Harare Sports Club'\n",
      " 'Queens Sports Club, Bulawayo'\n",
      " 'Takashinga Sports Club, Highfield, Harare' 'Bulawayo Athletic Club'\n",
      " 'Sharjah Cricket Stadium' 'County Ground, Chelmsford'\n",
      " 'National Stadium, Karachi'\n",
      " 'Tribhuvan University International Cricket Ground, Kirtipur'\n",
      " 'Rawalpindi Cricket Stadium' 'Mulpani Cricket Ground'\n",
      " 'United Cricket Club Ground, Windhoek'\n",
      " 'Wanderers Cricket Ground, Windhoek' 'Willowmoore Park, Benoni'\n",
      " 'Seddon Park, Hamilton' 'Eden Park, Auckland'\n",
      " 'Sylhet International Cricket Stadium'\n",
      " 'MA Chidambaram Stadium, Chepauk, Chennai' 'Senwes Park, Potchefstroom'\n",
      " 'Dr. Y.S. Rajasekhara Reddy ACA-VDCA Cricket Stadium, Visakhapatnam'\n",
      " 'Buffalo Park, East London' 'Wankhede Stadium, Mumbai'\n",
      " 'Dubai International Cricket Stadium' 'Diamond Oval, Kimberley'\n",
      " 'Shaheed Veer Narayan Singh International Stadium, Raipur'\n",
      " 'Rajiv Gandhi International Stadium, Uppal, Hyderabad'\n",
      " 'Greenfield International Stadium, Thiruvananthapuram'\n",
      " 'Eden Gardens, Kolkata' 'Barsapara Cricket Stadium, Guwahati'\n",
      " 'Hagley Oval, Christchurch' 'Melbourne Cricket Ground'\n",
      " 'Sydney Cricket Ground' 'Adelaide Oval' 'Arun Jaitley Stadium, Delhi'\n",
      " 'JSCA International Stadium Complex, Ranchi'\n",
      " 'Bharat Ratna Shri Atal Bihari Vajpayee Ekana Cricket Stadium, Lucknow'\n",
      " 'Amini Park, Port Moresby' \"Cazaly's Stadium, Cairns\"\n",
      " 'Riverway Stadium, Townsville' 'Tony Ireland Stadium, Townsville'\n",
      " 'Hazelaarweg, Rotterdam' 'Mannofield Park, Aberdeen'\n",
      " 'Grange Cricket Club Ground, Raeburn Place, Edinburgh'\n",
      " \"Queen's Park Oval, Port of Spain, Trinidad\" 'Headingley, Leeds'\n",
      " 'Old Trafford, Manchester' 'Riverside Ground, Chester-le-Street'\n",
      " 'Titwood, Glasgow' 'Providence Stadium, Guyana'\n",
      " 'Cambusdoon New Ground, Ayr' 'The Village, Malahide, Dublin'\n",
      " 'VRA Ground, Amstelveen' 'Moosa Cricket Stadium, Pearland'\n",
      " 'Choice Moosa Stadium, Pearland' 'Bay Oval, Mount Maunganui'\n",
      " 'ICC Academy, Dubai' 'Narendra Modi Stadium, Ahmedabad'\n",
      " 'Al Amerat Cricket Ground Oman Cricket (Ministry Turf 1)'\n",
      " 'West End Park International Cricket Stadium, Doha' 'Newlands, Cape Town'\n",
      " 'Boland Park, Paarl' 'Sabina Park, Kingston, Jamaica'\n",
      " 'Al Amerat Cricket Ground Oman Cricket (Ministry Turf 2)'\n",
      " 'Civil Service Cricket Club, Stormont, Belfast' 'Edgbaston, Birmingham'\n",
      " 'County Ground, Bristol' 'Sportpark Maarschalkerweerd, Utrecht'\n",
      " 'Sher-e-Bangla National Cricket Stadium' 'The Wanderers Stadium'\n",
      " 'Maharashtra Cricket Association Stadium' 'Basin Reserve' 'Hagley Oval'\n",
      " 'University Oval' 'Sir Vivian Richards Stadium' 'Sheikh Zayed Stadium'\n",
      " 'Zahur Ahmed Chowdhury Stadium' 'Shere Bangla National Stadium'\n",
      " 'Manuka Oval' 'Old Trafford' 'The Rose Bowl' 'Senwes Park'\n",
      " 'Mangaung Oval' 'Boland Park'\n",
      " 'Mahinda Rajapaksa International Cricket Stadium, Sooriyawewa'\n",
      " 'Sinhalese Sports Club Ground'\n",
      " 'Tribhuvan University International Cricket Ground' 'Bay Oval'\n",
      " 'Eden Park' 'Kingsmead' 'Seddon Park' 'Newlands' 'M.Chinnaswamy Stadium'\n",
      " 'Saurashtra Cricket Association Stadium' 'Wankhede Stadium'\n",
      " 'National Cricket Stadium, Grenada' 'Kensington Oval, Barbados'\n",
      " 'Barabati Stadium' 'Dr. Y.S. Rajasekhara Reddy ACA-VDCA Cricket Stadium'\n",
      " 'ICC Academy' 'MA Chidambaram Stadium, Chepauk'\n",
      " 'Bharat Ratna Shri Atal Bihari Vajpayee Ekana Cricket Stadium'\n",
      " 'National Stadium' 'Central Broward Regional Park Stadium Turf Ground'\n",
      " 'Mannofield Park' \"Queen's Park Oval, Trinidad\"\n",
      " 'R.Premadasa Stadium, Khettarama' \"Lord's\" 'Edgbaston'\n",
      " 'Civil Service Cricket Club, Stormont' 'Headingley' 'Riverside Ground'\n",
      " 'Bready Cricket Club, Magheramason' 'Sportpark Het Schootsveld'\n",
      " 'Trent Bridge' 'The Cooper Associates County Ground' 'Kennington Oval'\n",
      " 'Sophia Gardens' 'County Ground' 'Grange Cricket Club, Raeburn Place'\n",
      " 'The Village, Malahide' 'Castle Avenue' 'Affies Park'\n",
      " 'Wanderers Cricket Ground' \"St George's Park\" 'Arun Jaitley Stadium'\n",
      " 'Punjab Cricket Association IS Bindra Stadium, Mohali'\n",
      " 'Rajiv Gandhi International Cricket Stadium, Dehradun'\n",
      " 'JSCA International Stadium Complex' 'SuperSport Park'\n",
      " 'Vidarbha Cricket Association Stadium, Jamtha'\n",
      " 'Darren Sammy National Cricket Stadium, St Lucia'\n",
      " 'Rajiv Gandhi International Stadium, Uppal' 'McLean Park'\n",
      " 'Westpac Stadium' 'Saxton Oval' 'Bellerive Oval' 'Perth Stadium'\n",
      " 'Greenfield International Stadium' 'Brabourne Stadium'\n",
      " 'Barsapara Cricket Stadium' 'Rangiri Dambulla International Stadium'\n",
      " 'Diamond Oval' 'Kinrara Academy Oval' 'Warner Park, Basseterre'\n",
      " 'Providence Stadium' 'Queens Sports Club' 'Old Hararians'\n",
      " 'Brisbane Cricket Ground, Woolloongabba' 'Cobham Oval (New)'\n",
      " 'Himachal Pradesh Cricket Association Stadium' 'Green Park'\n",
      " 'Buffalo Park' 'Holkar Cricket Stadium' 'Eden Gardens'\n",
      " 'Sabina Park, Kingston' 'Sir Vivian Richards Stadium, North Sound'\n",
      " 'Galle International Stadium' \"Queen's Park Oval, Port of Spain\"\n",
      " 'Grange Cricket Club Ground, Raeburn Place'\n",
      " 'Darren Sammy National Cricket Stadium, Gros Islet'\n",
      " 'Clontarf Cricket Club Ground' 'Malahide'\n",
      " 'Greater Noida Sports Complex Ground' 'Kensington Oval, Bridgetown'\n",
      " 'ICC Global Cricket Academy' 'New Wanderers Stadium'\n",
      " 'Western Australia Cricket Association Ground'\n",
      " 'Mission Road Ground, Mong Kok'\n",
      " 'Punjab Cricket Association Stadium, Mohali' 'Feroz Shah Kotla'\n",
      " 'Willowmoore Park' 'R Premadasa Stadium' 'Gaddafi Stadium'\n",
      " 'Sardar Patel Stadium, Motera' 'Nehru Stadium'\n",
      " \"National Cricket Stadium, St George's\"\n",
      " 'Clontarf Cricket Club Ground, Dublin' 'Khan Shaheb Osman Ali Stadium'\n",
      " 'Bert Sutcliffe Oval' 'Queenstown Events Centre' 'M Chinnaswamy Stadium'\n",
      " 'Sawai Mansingh Stadium' 'Maple Leaf North-West Ground'\n",
      " 'Beausejour Stadium, Gros Islet' 'VRA Ground' 'Chevrolet Park'\n",
      " 'De Beers Diamond Oval' 'Sheikh Abu Naser Stadium'\n",
      " 'Sharjah Cricket Association Stadium' 'Arnos Vale Ground, Kingstown'\n",
      " 'Mombasa Sports Club Ground' 'AMI Stadium' 'Reliance Stadium'\n",
      " 'OUTsurance Oval' 'Toronto Cricket, Skating and Curling Club'\n",
      " 'Cambusdoon New Ground' 'Windsor Park, Roseau'\n",
      " 'Zohur Ahmed Chowdhury Stadium' 'Captain Roop Singh Stadium'\n",
      " 'Madhavrao Scindia Cricket Ground' 'Dubai Sports City Cricket Stadium'\n",
      " 'Gymkhana Club Ground' 'Maharani Usharaje Trust Cricket Ground'\n",
      " 'Marrara Cricket Ground' 'Iqbal Stadium' 'Chittagong Divisional Stadium'\n",
      " 'Sheikhupura Stadium' 'Niaz Stadium, Hyderabad'\n",
      " 'Vidarbha Cricket Association Ground' 'Sector 16 Stadium' 'Titwood'\n",
      " 'P Saravanamuttu Stadium'\n",
      " 'Andhra Cricket Association-Visakhapatnam District Cricket Association Stadium'\n",
      " 'Nehru Stadium, Fatorda' 'Jaffery Sports Club Ground'\n",
      " 'Ruaraka Sports Club Ground'\n",
      " 'Indian Petrochemicals Corporation Limited Sports Complex Ground'\n",
      " 'Jade Stadium' 'Shaheed Chandu Stadium' 'Sedgars Park' 'Goodyear Park'\n",
      " \"Antigua Recreation Ground, St John's\" 'Narayanganj Osmani Stadium'\n",
      " 'Keenan Stadium' 'Nahar Singh Stadium' 'Arbab Niaz Stadium'\n",
      " 'Docklands Stadium' 'John Davies Oval'\n",
      " 'Sardar Patel (Gujarat) Stadium, Motera' 'Vidarbha C.A. Ground'\n",
      " 'St Lawrence Ground' 'Daren Sammy National Cricket Stadium, Gros Islet'\n",
      " 'W.A.C.A. Ground' 'Bangabandhu National Stadium' 'MA Aziz Stadium'\n",
      " 'Sinhalese Sports Club' 'VRA Cricket Ground' 'R.Premadasa Stadium'\n",
      " 'National Cricket Stadium' 'Arnos Vale Ground'\n",
      " 'Daren Sammy National Cricket Stadium' \"Queen's Park Oval\" 'Carisbrook'\n",
      " 'Brisbane Cricket Ground'\n",
      " 'Lal Bahadur Shastri Stadium, Hyderabad, Deccan'\n",
      " 'Bangabandhu National Stadium, Dhaka' 'MA Aziz Stadium, Chittagong'\n",
      " 'Barabati Stadium, Cuttack' 'Nehru Stadium, Poona'\n",
      " 'Nahar Singh Stadium, Faridabad' 'Captain Roop Singh Stadium, Gwalior'\n",
      " 'Iqbal Stadium, Faisalabad' 'Marrara Cricket Ground, Darwin'\n",
      " 'Bundaberg Rum Stadium, Cairns'\n",
      " 'The Royal & Sun Alliance County Ground, Bristol'\n",
      " 'St Lawrence Ground, Canterbury'\n",
      " 'Arnos Vale Ground, Kingstown, St Vincent'\n",
      " \"Queen's Park (New), St George's, Grenada\"\n",
      " 'New Wanderers Stadium, Johannesburg' 'Kingsmead, Durban'\n",
      " \"St George's Park, Port Elizabeth\" 'Goodyear Park, Bloemfontein'\n",
      " 'North West Cricket Stadium, Potchefstroom'\n",
      " 'De Beers Diamond Oval, Kimberley' 'Boland Bank Park, Paarl'\n",
      " 'Gymkhana Club Ground, Nairobi' 'City Oval, Pietermaritzburg'\n",
      " 'Brisbane Cricket Ground, Woolloongabba, Brisbane'\n",
      " 'Westpac Park, Hamilton' 'Bellerive Oval, Hobart'\n",
      " 'Westpac Stadium, Wellington' 'Davies Park, Queenstown'\n",
      " 'Jade Stadium, Christchurch' 'McLean Park, Napier']\n"
     ]
    }
   ],
   "source": [
    "# Extract unique venues from the dataset\n",
    "unique_venues = odi_match_info['venue'].unique()\n",
    "\n",
    "# Display the unique venues\n",
    "print(\"Unique Venues:\")\n",
    "print(unique_venues)\n"
   ]
  },
  {
   "cell_type": "code",
   "execution_count": 307,
   "id": "a8482e19-f2f4-4373-884a-7789d3a3fd71",
   "metadata": {},
   "outputs": [
    {
     "name": "stdout",
     "output_type": "stream",
     "text": [
      "List of missing venues saved to 'missing_venues.csv'.\n"
     ]
    }
   ],
   "source": [
    "# Identify missing venues\n",
    "missing_venues = [venue for venue in unique_venues if venue not in venue_data]\n",
    "\n",
    "# Save missing venues to a CSV file\n",
    "pd.DataFrame({'Missing_Venues': missing_venues}).to_csv(r\"C:\\Aadi\\python projects\\Cricket Win predictor for ODI\\Dataset\\missing_venues.csv\", index=False)\n",
    "\n",
    "print(\"List of missing venues saved to 'missing_venues.csv'.\")\n",
    "\n"
   ]
  },
  {
   "cell_type": "code",
   "execution_count": 309,
   "id": "f840524f-aaec-42f0-8397-1fef28c558f4",
   "metadata": {},
   "outputs": [],
   "source": [
    "venue_data = {\n",
    "    \"Holkar Cricket Stadium, Indore\": {\"avg_1st_innings\": 290, \"avg_2nd_innings\": 260},\n",
    "    \"Trent Bridge, Nottingham\": {\"avg_1st_innings\": 300, \"avg_2nd_innings\": 280},\n",
    "    \"Shere Bangla National Stadium, Mirpur\": {\"avg_1st_innings\": 240, \"avg_2nd_innings\": 210},\n",
    "    \"Punjab Cricket Association IS Bindra Stadium, Mohali, Chandigarh\": {\"avg_1st_innings\": 260, \"avg_2nd_innings\": 250},\n",
    "    \"R Premadasa Stadium, Colombo\": {\"avg_1st_innings\": 245, \"avg_2nd_innings\": 220},\n",
    "    \"The Wanderers Stadium, Johannesburg\": {\"avg_1st_innings\": 310, \"avg_2nd_innings\": 290},\n",
    "    \"Lord's, London\": {\"avg_1st_innings\": 270, \"avg_2nd_innings\": 240},\n",
    "    \"SuperSport Park, Centurion\": {\"avg_1st_innings\": 300, \"avg_2nd_innings\": 270},\n",
    "    \"Kennington Oval, London\": {\"avg_1st_innings\": 280, \"avg_2nd_innings\": 260},\n",
    "    \"The Rose Bowl, Southampton\": {\"avg_1st_innings\": 280, \"avg_2nd_innings\": 250},\n",
    "    \"Mangaung Oval, Bloemfontein\": {\"avg_1st_innings\": 290, \"avg_2nd_innings\": 270},\n",
    "    \"Gaddafi Stadium, Lahore\": {\"avg_1st_innings\": 270, \"avg_2nd_innings\": 240},\n",
    "    \"Pallekele International Cricket Stadium\": {\"avg_1st_innings\": 240, \"avg_2nd_innings\": 230},\n",
    "    \"Multan Cricket Stadium\": {\"avg_1st_innings\": 250, \"avg_2nd_innings\": 240},\n",
    "    \"Mahinda Rajapaksa International Cricket Stadium, Sooriyawewa, Hambantota\": {\"avg_1st_innings\": 245, \"avg_2nd_innings\": 220},\n",
    "    \"Brian Lara Stadium, Tarouba, Trinidad\": {\"avg_1st_innings\": 250, \"avg_2nd_innings\": 220},\n",
    "    \"Kensington Oval, Bridgetown, Barbados\": {\"avg_1st_innings\": 270, \"avg_2nd_innings\": 240},\n",
    "    \"Zahur Ahmed Chowdhury Stadium, Chattogram\": {\"avg_1st_innings\": 240, \"avg_2nd_innings\": 210},\n",
    "    \"Harare Sports Club\": {\"avg_1st_innings\": 230, \"avg_2nd_innings\": 200},\n",
    "    \"Queens Sports Club, Bulawayo\": {\"avg_1st_innings\": 240, \"avg_2nd_innings\": 210},\n",
    "    \"Sharjah Cricket Stadium\": {\"avg_1st_innings\": 240, \"avg_2nd_innings\": 220},\n",
    "    \"National Stadium, Karachi\": {\"avg_1st_innings\": 260, \"avg_2nd_innings\": 240},\n",
    "    \"Rawalpindi Cricket Stadium\": {\"avg_1st_innings\": 270, \"avg_2nd_innings\": 250},\n",
    "    \"Seddon Park, Hamilton\": {\"avg_1st_innings\": 280, \"avg_2nd_innings\": 260},\n",
    "    \"Eden Park, Auckland\": {\"avg_1st_innings\": 270, \"avg_2nd_innings\": 250},\n",
    "    \"Sylhet International Cricket Stadium\": {\"avg_1st_innings\": 230, \"avg_2nd_innings\": 210},\n",
    "    \"MA Chidambaram Stadium, Chepauk, Chennai\": {\"avg_1st_innings\": 250, \"avg_2nd_innings\": 230},\n",
    "    \"Wankhede Stadium, Mumbai\": {\"avg_1st_innings\": 280, \"avg_2nd_innings\": 260},\n",
    "    \"Dubai International Cricket Stadium\": {\"avg_1st_innings\": 240, \"avg_2nd_innings\": 220},\n",
    "    \"Diamond Oval, Kimberley\": {\"avg_1st_innings\": 250, \"avg_2nd_innings\": 230},\n",
    "    \"Eden Gardens, Kolkata\": {\"avg_1st_innings\": 270, \"avg_2nd_innings\": 250},\n",
    "    \"Melbourne Cricket Ground\": {\"avg_1st_innings\": 280, \"avg_2nd_innings\": 260},\n",
    "    \"Sydney Cricket Ground\": {\"avg_1st_innings\": 270, \"avg_2nd_innings\": 250},\n",
    "    \"Adelaide Oval\": {\"avg_1st_innings\": 280, \"avg_2nd_innings\": 260},\n",
    "    \"Narendra Modi Stadium, Ahmedabad\": {\"avg_1st_innings\": 270, \"avg_2nd_innings\": 240},\n",
    "    \"Newlands, Cape Town\": {\"avg_1st_innings\": 260, \"avg_2nd_innings\": 240},\n",
    "    \"Sabina Park, Kingston, Jamaica\": {\"avg_1st_innings\": 250, \"avg_2nd_innings\": 230},\n",
    "    \"Edgbaston, Birmingham\": {\"avg_1st_innings\": 280, \"avg_2nd_innings\": 260},\n",
    "    # Add remaining venues as needed\n",
    "}\n",
    "\n",
    "# Use default values for any additional unmatched venues\n",
    "default_avg = {\"avg_1st_innings\": 250, \"avg_2nd_innings\": 220}\n",
    "for venue in unique_venues:\n",
    "    if venue not in venue_data:\n",
    "        venue_data[venue] = default_avg\n"
   ]
  },
  {
   "cell_type": "code",
   "execution_count": 311,
   "id": "c599d1a3-9685-419a-9e06-4b2717528246",
   "metadata": {},
   "outputs": [
    {
     "name": "stdout",
     "output_type": "stream",
     "text": [
      "Remaining venues without data (should be empty):\n",
      "[]\n"
     ]
    }
   ],
   "source": [
    "# Map venue averages to the dataset\n",
    "odi_match_info['venue_avg_1st'] = odi_match_info['venue'].map(lambda x: venue_data[x]['avg_1st_innings'])\n",
    "odi_match_info['venue_avg_2nd'] = odi_match_info['venue'].map(lambda x: venue_data[x]['avg_2nd_innings'])\n",
    "\n",
    "# Check for remaining missing venues\n",
    "missing_venues_after_mapping = odi_match_info[odi_match_info['venue_avg_1st'].isnull()]\n",
    "print(\"Remaining venues without data (should be empty):\")\n",
    "print(missing_venues_after_mapping['venue'].unique())\n"
   ]
  },
  {
   "cell_type": "markdown",
   "id": "e3e4e60e-1af5-4d78-980f-0f72941a31a8",
   "metadata": {},
   "source": [
    "Now we are going to add run rate and wickets left feature "
   ]
  },
  {
   "cell_type": "code",
   "execution_count": 316,
   "id": "5ab19977-425d-435c-bf1d-cac4ee826c29",
   "metadata": {},
   "outputs": [
    {
     "name": "stdout",
     "output_type": "stream",
     "text": [
      "Columns in odi_match_info:\n",
      "Index(['id', 'season', 'city', 'date', 'team1', 'team2', 'toss_winner',\n",
      "       'toss_decision', 'result', 'dl_applied', 'winner', 'win_by_runs',\n",
      "       'win_by_wickets', 'player_of_match', 'venue', 'umpire1', 'umpire2',\n",
      "       'umpire3', 'team1_strength', 'team2_strength', 'venue_avg_1st',\n",
      "       'venue_avg_2nd'],\n",
      "      dtype='object')\n"
     ]
    }
   ],
   "source": [
    "print(\"Columns in odi_match_info:\")\n",
    "print(odi_match_info.columns)\n"
   ]
  },
  {
   "cell_type": "code",
   "execution_count": 322,
   "id": "d6fb4dcf-99ce-48bb-90fe-f6846fed3888",
   "metadata": {},
   "outputs": [
    {
     "name": "stdout",
     "output_type": "stream",
     "text": [
      "Columns in odi_match_info:\n",
      "Index(['id', 'season', 'city', 'date', 'team1', 'team2', 'toss_winner',\n",
      "       'toss_decision', 'result', 'dl_applied', 'winner', 'win_by_runs',\n",
      "       'win_by_wickets', 'player_of_match', 'venue', 'umpire1', 'umpire2',\n",
      "       'umpire3', 'team1_strength', 'team2_strength', 'venue_avg_1st',\n",
      "       'venue_avg_2nd'],\n",
      "      dtype='object')\n",
      "Columns in team2_data:\n",
      "Index(['match_id', 'team2_score', 'team2_overs'], dtype='object')\n"
     ]
    }
   ],
   "source": [
    "# Check columns in odi_match_info\n",
    "print(\"Columns in odi_match_info:\")\n",
    "print(odi_match_info.columns)\n",
    "\n",
    "# Check columns in team2_data\n",
    "print(\"Columns in team2_data:\")\n",
    "print(team2_data.columns)\n"
   ]
  },
  {
   "cell_type": "code",
   "execution_count": 324,
   "id": "43302ca3-7fe6-426a-b62b-2a9dc83c7df4",
   "metadata": {},
   "outputs": [
    {
     "name": "stdout",
     "output_type": "stream",
     "text": [
      "   match_id  team2_score  team2_overs\n",
      "0   1389389       217.00        28.33\n",
      "1   1336129       286.00        47.00\n",
      "2   1395701       168.00        41.17\n",
      "3   1389388       281.00        48.67\n",
      "4   1395700          NaN          NaN\n"
     ]
    }
   ],
   "source": [
    "# Rename 'id' to 'match_id' in odi_match_info\n",
    "odi_match_info.rename(columns={'id': 'match_id'}, inplace=True)\n",
    "\n",
    "# Merge Team 2 data into odi_match_info\n",
    "odi_match_info = pd.merge(odi_match_info, team2_data, on='match_id', how='left')\n",
    "\n",
    "# Verify the updated DataFrame\n",
    "print(odi_match_info[['match_id', 'team2_score', 'team2_overs']].head())\n"
   ]
  },
  {
   "cell_type": "code",
   "execution_count": 328,
   "id": "a2755a6e-5923-4892-9c46-18388141a811",
   "metadata": {},
   "outputs": [
    {
     "name": "stdout",
     "output_type": "stream",
     "text": [
      "   match_id  team1_score\n",
      "0   1389389       399.00\n",
      "1   1336129       333.00\n",
      "2   1395701       254.00\n",
      "3   1389388       276.00\n",
      "4   1395700       136.00\n"
     ]
    }
   ],
   "source": [
    "# Calculate cumulative score for Team 1 (first innings)\n",
    "team1_data = odi_match_data[odi_match_data['innings'] == 1].groupby('match_id').agg({\n",
    "    'cumulative_score': 'max'  # Final score at the end of the innings\n",
    "}).reset_index()\n",
    "\n",
    "# Rename the column for clarity\n",
    "team1_data.rename(columns={'cumulative_score': 'team1_score'}, inplace=True)\n",
    "\n",
    "# Merge Team 1 data into odi_match_info\n",
    "odi_match_info = pd.merge(odi_match_info, team1_data, on='match_id', how='left')\n",
    "\n",
    "# Verify the updated DataFrame\n",
    "print(odi_match_info[['match_id', 'team1_score']].head())\n"
   ]
  },
  {
   "cell_type": "code",
   "execution_count": 330,
   "id": "6cbcaeba-685e-4b79-acb3-c4bb0dfbc6b7",
   "metadata": {},
   "outputs": [
    {
     "name": "stdout",
     "output_type": "stream",
     "text": [
      "   team1_score  team2_score  team2_overs  current_run_rate  required_run_rate\n",
      "0       399.00       217.00        28.33              7.66               8.40\n",
      "1       333.00       286.00        47.00              6.09              15.67\n",
      "2       254.00       168.00        41.17              4.08               9.74\n",
      "3       276.00       281.00        48.67              5.77              -3.75\n",
      "4       136.00          NaN          NaN              0.00               0.00\n"
     ]
    }
   ],
   "source": [
    "# Calculate current run rate for Team 2\n",
    "odi_match_info['current_run_rate'] = (\n",
    "    odi_match_info['team2_score'] / odi_match_info['team2_overs']\n",
    ").fillna(0)\n",
    "\n",
    "# Calculate required run rate for Team 2\n",
    "odi_match_info['required_run_rate'] = (\n",
    "    (odi_match_info['team1_score'] - odi_match_info['team2_score']) /\n",
    "    (50 - odi_match_info['team2_overs'])\n",
    ").fillna(0)\n",
    "\n",
    "# Preview the new features\n",
    "print(odi_match_info[['team1_score', 'team2_score', 'team2_overs', 'current_run_rate', 'required_run_rate']].head())\n"
   ]
  },
  {
   "cell_type": "code",
   "execution_count": 334,
   "id": "d73b4d8c-c889-4c50-b034-fada8a170bde",
   "metadata": {},
   "outputs": [],
   "source": [
    "# Add team1_wickets based on available data or placeholders\n",
    "odi_match_info['team1_wickets'] = odi_match_info.get('team1_wickets', 10 - odi_match_info['win_by_wickets'].fillna(0))\n"
   ]
  },
  {
   "cell_type": "code",
   "execution_count": 336,
   "id": "07a15dde-f3a9-4640-a278-1748c769c5e3",
   "metadata": {},
   "outputs": [],
   "source": [
    "# Add team2_wickets (assuming 10 for all matches as placeholders if data is unavailable)\n",
    "odi_match_info['team2_wickets'] = odi_match_info.get('team2_wickets', 10 - odi_match_info['win_by_runs'].fillna(0) / 20)  # Example logic\n"
   ]
  },
  {
   "cell_type": "code",
   "execution_count": 338,
   "id": "583c5bda-e2a1-48bf-8a40-c1eb773029be",
   "metadata": {},
   "outputs": [
    {
     "name": "stdout",
     "output_type": "stream",
     "text": [
      "Columns in odi_match_info after adding wickets:\n",
      "Index(['match_id', 'season', 'city', 'date', 'team1', 'team2', 'toss_winner',\n",
      "       'toss_decision', 'result', 'dl_applied', 'winner', 'win_by_runs',\n",
      "       'win_by_wickets', 'player_of_match', 'venue', 'umpire1', 'umpire2',\n",
      "       'umpire3', 'team1_strength', 'team2_strength', 'venue_avg_1st',\n",
      "       'venue_avg_2nd', 'team2_score', 'team2_overs', 'current_run_rate',\n",
      "       'team1_score', 'required_run_rate', 'team1_wickets', 'team2_wickets'],\n",
      "      dtype='object')\n"
     ]
    }
   ],
   "source": [
    "# Verify the added columns\n",
    "print(\"Columns in odi_match_info after adding wickets:\")\n",
    "print(odi_match_info.columns)\n"
   ]
  },
  {
   "cell_type": "markdown",
   "id": "8a0af3d6-0b4f-4890-a6fe-f44f10fd2dfb",
   "metadata": {},
   "source": [
    "Defining match result"
   ]
  },
  {
   "cell_type": "code",
   "execution_count": 347,
   "id": "33667480-18c3-4878-b5b3-37afbb1cea24",
   "metadata": {},
   "outputs": [
    {
     "name": "stdout",
     "output_type": "stream",
     "text": [
      "         team1       team2       winner  match_result match_winner\n",
      "0        India   Australia        India             1        India\n",
      "1      England     Ireland      England             1      England\n",
      "2  New Zealand  Bangladesh  New Zealand             1  New Zealand\n",
      "3    Australia       India        India             0        India\n",
      "4  New Zealand  Bangladesh          NaN             0   Bangladesh\n"
     ]
    }
   ],
   "source": [
    "# Add a column with the actual winner's name\n",
    "odi_match_info['match_winner'] = odi_match_info.apply(\n",
    "    lambda row: row['team1'] if row['match_result'] == 1 else row['team2'], axis=1\n",
    ")\n",
    "\n",
    "# Verify the addition\n",
    "print(odi_match_info[['team1', 'team2', 'winner', 'match_result', 'match_winner']].head())\n"
   ]
  },
  {
   "cell_type": "code",
   "execution_count": 349,
   "id": "0354effa-2c00-46a7-b934-bcc3c702f7ff",
   "metadata": {},
   "outputs": [
    {
     "name": "stdout",
     "output_type": "stream",
     "text": [
      "Feature Matrix (X):\n",
      "   team1_strength  team2_strength  venue_avg_1st  venue_avg_2nd  team1_score  \\\n",
      "0           59.06           62.36            290            260       399.00   \n",
      "1           51.48           35.10            300            280       333.00   \n",
      "2           52.12           41.29            240            210       254.00   \n",
      "3           62.36           59.06            260            250       276.00   \n",
      "4           52.12           41.29            240            210       136.00   \n",
      "\n",
      "   team1_wickets  team2_score  team2_overs  team2_wickets  current_run_rate  \\\n",
      "0             10       217.00        28.33           5.05              7.66   \n",
      "1             10       286.00        47.00           7.60              6.09   \n",
      "2             10       168.00        41.17           5.70              4.08   \n",
      "3              5       281.00        48.67          10.00              5.77   \n",
      "4             10          NaN          NaN          10.00              0.00   \n",
      "\n",
      "   required_run_rate  \n",
      "0               8.40  \n",
      "1              15.67  \n",
      "2               9.74  \n",
      "3              -3.75  \n",
      "4               0.00  \n",
      "\n",
      "Target Vector (y):\n",
      "0    1\n",
      "1    1\n",
      "2    1\n",
      "3    0\n",
      "4    0\n",
      "Name: match_result, dtype: int64\n"
     ]
    }
   ],
   "source": [
    "# Define the feature set\n",
    "features = [\n",
    "    'team1_strength', 'team2_strength',  # Team strengths\n",
    "    'venue_avg_1st', 'venue_avg_2nd',    # Venue averages\n",
    "    'team1_score', 'team1_wickets',      # Team 1 performance\n",
    "    'team2_score', 'team2_overs', 'team2_wickets',  # Team 2 performance\n",
    "    'current_run_rate', 'required_run_rate'         # Run rates\n",
    "]\n",
    "\n",
    "# Define the target variable\n",
    "target = 'match_result'\n",
    "\n",
    "# Create the feature matrix (X) and target vector (y)\n",
    "X = odi_match_info[features]\n",
    "y = odi_match_info[target]\n",
    "\n",
    "# Verify the dataset\n",
    "print(\"Feature Matrix (X):\")\n",
    "print(X.head())\n",
    "print(\"\\nTarget Vector (y):\")\n",
    "print(y.head())\n"
   ]
  },
  {
   "cell_type": "markdown",
   "id": "f98f8356-6ca2-4c13-91b3-3fcb42b854f6",
   "metadata": {},
   "source": [
    "Now we will split data for training and testing"
   ]
  },
  {
   "cell_type": "code",
   "execution_count": 352,
   "id": "adda3642-d038-4d97-90b4-d740ffe50c86",
   "metadata": {},
   "outputs": [
    {
     "name": "stdout",
     "output_type": "stream",
     "text": [
      "Training set shape (X_train): (1903, 11)\n",
      "Testing set shape (X_test): (476, 11)\n"
     ]
    }
   ],
   "source": [
    "from sklearn.model_selection import train_test_split\n",
    "\n",
    "# Split the data\n",
    "X_train, X_test, y_train, y_test = train_test_split(X, y, test_size=0.2, random_state=42)\n",
    "\n",
    "# Print the shape of the splits\n",
    "print(\"Training set shape (X_train):\", X_train.shape)\n",
    "print(\"Testing set shape (X_test):\", X_test.shape)\n"
   ]
  },
  {
   "cell_type": "code",
   "execution_count": 356,
   "id": "4f4f9a0c-c68c-490c-acf4-99c211e3db22",
   "metadata": {},
   "outputs": [
    {
     "name": "stdout",
     "output_type": "stream",
     "text": [
      "NaN values in X: team1_strength         0\n",
      "team2_strength         0\n",
      "venue_avg_1st          0\n",
      "venue_avg_2nd          0\n",
      "team1_score          405\n",
      "team1_wickets          0\n",
      "team2_score          459\n",
      "team2_overs          459\n",
      "team2_wickets          0\n",
      "current_run_rate       0\n",
      "required_run_rate      0\n",
      "dtype: int64\n",
      "Infinite values in X: 154\n",
      "Maximum value in X: inf\n"
     ]
    }
   ],
   "source": [
    "# Check for NaN values\n",
    "print(\"NaN values in X:\", X.isnull().sum())\n",
    "\n",
    "# Check for infinite values\n",
    "print(\"Infinite values in X:\", np.isinf(X).sum().sum())\n",
    "\n",
    "# Check for extremely large values\n",
    "print(\"Maximum value in X:\", X.max().max())\n"
   ]
  },
  {
   "cell_type": "code",
   "execution_count": 360,
   "id": "f8851e6e-9dd2-4a9b-9526-6e1600c152b9",
   "metadata": {},
   "outputs": [],
   "source": [
    "X = X.fillna(0)  # Replace NaN values with 0\n",
    "X = X.replace([np.inf, -np.inf], 0)  # Replace inf values with 0\n",
    "X = np.clip(X, a_min=None, a_max=1000)  # Replace values > 1000 with 1000\n"
   ]
  },
  {
   "cell_type": "code",
   "execution_count": 362,
   "id": "e023c96c-a2b9-4f4f-b27c-7305394e18e7",
   "metadata": {},
   "outputs": [
    {
     "name": "stdout",
     "output_type": "stream",
     "text": [
      "NaN values in X after cleaning: team1_strength       0\n",
      "team2_strength       0\n",
      "venue_avg_1st        0\n",
      "venue_avg_2nd        0\n",
      "team1_score          0\n",
      "team1_wickets        0\n",
      "team2_score          0\n",
      "team2_overs          0\n",
      "team2_wickets        0\n",
      "current_run_rate     0\n",
      "required_run_rate    0\n",
      "dtype: int64\n",
      "Infinite values in X after cleaning: 0\n",
      "Maximum value in X after cleaning: 695.9999999999951\n"
     ]
    }
   ],
   "source": [
    "# Verify cleaned data\n",
    "print(\"NaN values in X after cleaning:\", X.isnull().sum())\n",
    "print(\"Infinite values in X after cleaning:\", np.isinf(X).sum().sum())\n",
    "print(\"Maximum value in X after cleaning:\", X.max().max())"
   ]
  },
  {
   "cell_type": "code",
   "execution_count": 366,
   "id": "33424091-ad1e-403e-ac77-702d6f85c18d",
   "metadata": {},
   "outputs": [
    {
     "name": "stdout",
     "output_type": "stream",
     "text": [
      "NaN values in X_train:\n",
      " team1_strength         0\n",
      "team2_strength         0\n",
      "venue_avg_1st          0\n",
      "venue_avg_2nd          0\n",
      "team1_score          328\n",
      "team1_wickets          0\n",
      "team2_score          377\n",
      "team2_overs          377\n",
      "team2_wickets          0\n",
      "current_run_rate       0\n",
      "required_run_rate      0\n",
      "dtype: int64\n",
      "Infinite values in X_train:\n",
      " team1_strength         0\n",
      "team2_strength         0\n",
      "venue_avg_1st          0\n",
      "venue_avg_2nd          0\n",
      "team1_score            0\n",
      "team1_wickets          0\n",
      "team2_score            0\n",
      "team2_overs            0\n",
      "team2_wickets          0\n",
      "current_run_rate       0\n",
      "required_run_rate    118\n",
      "dtype: int64\n",
      "Maximum value in X_train:\n",
      " team1_strength       62.36\n",
      "team2_strength       62.36\n",
      "venue_avg_1st       310.00\n",
      "venue_avg_2nd       290.00\n",
      "team1_score         481.00\n",
      "team1_wickets        10.00\n",
      "team2_score         411.00\n",
      "team2_overs          50.17\n",
      "team2_wickets        10.00\n",
      "current_run_rate     15.83\n",
      "required_run_rate      inf\n",
      "dtype: float64\n"
     ]
    }
   ],
   "source": [
    "# Check for NaN values\n",
    "print(\"NaN values in X_train:\\n\", X_train.isnull().sum())\n",
    "\n",
    "# Check for infinite values\n",
    "print(\"Infinite values in X_train:\\n\", np.isinf(X_train).sum())\n",
    "\n",
    "# Check for extremely large values\n",
    "print(\"Maximum value in X_train:\\n\", X_train.max())\n"
   ]
  },
  {
   "cell_type": "code",
   "execution_count": 368,
   "id": "265fd24c-444c-431c-a0ee-7f80f1c93721",
   "metadata": {},
   "outputs": [],
   "source": [
    "X_train = X_train.fillna(0)  # Replace NaN with 0 or another appropriate value\n",
    "X_train = X_train.replace([np.inf, -np.inf], 0)  # Replace infinite values with 0\n",
    "X_train = np.clip(X_train, a_min=None, a_max=1000)  # Replace values > 1000 with 1000\n"
   ]
  },
  {
   "cell_type": "code",
   "execution_count": 370,
   "id": "1e9b94c8-1351-499f-874b-f48cebdba0e1",
   "metadata": {},
   "outputs": [
    {
     "name": "stdout",
     "output_type": "stream",
     "text": [
      "NaN values in X_train after cleaning:\n",
      " team1_strength       0\n",
      "team2_strength       0\n",
      "venue_avg_1st        0\n",
      "venue_avg_2nd        0\n",
      "team1_score          0\n",
      "team1_wickets        0\n",
      "team2_score          0\n",
      "team2_overs          0\n",
      "team2_wickets        0\n",
      "current_run_rate     0\n",
      "required_run_rate    0\n",
      "dtype: int64\n",
      "Infinite values in X_train after cleaning:\n",
      " team1_strength       0\n",
      "team2_strength       0\n",
      "venue_avg_1st        0\n",
      "venue_avg_2nd        0\n",
      "team1_score          0\n",
      "team1_wickets        0\n",
      "team2_score          0\n",
      "team2_overs          0\n",
      "team2_wickets        0\n",
      "current_run_rate     0\n",
      "required_run_rate    0\n",
      "dtype: int64\n",
      "Maximum value in X_train after cleaning:\n",
      " team1_strength       62.36\n",
      "team2_strength       62.36\n",
      "venue_avg_1st       310.00\n",
      "venue_avg_2nd       290.00\n",
      "team1_score         481.00\n",
      "team1_wickets        10.00\n",
      "team2_score         411.00\n",
      "team2_overs          50.17\n",
      "team2_wickets        10.00\n",
      "current_run_rate     15.83\n",
      "required_run_rate   558.00\n",
      "dtype: float64\n"
     ]
    }
   ],
   "source": [
    "# Verify cleaned data\n",
    "print(\"NaN values in X_train after cleaning:\\n\", X_train.isnull().sum())\n",
    "print(\"Infinite values in X_train after cleaning:\\n\", np.isinf(X_train).sum())\n",
    "print(\"Maximum value in X_train after cleaning:\\n\", X_train.max())\n"
   ]
  },
  {
   "cell_type": "code",
   "execution_count": 372,
   "id": "e24dbd73-4b90-4cb2-adc8-1a900aebfaaa",
   "metadata": {},
   "outputs": [
    {
     "name": "stdout",
     "output_type": "stream",
     "text": [
      "Model training completed successfully!\n"
     ]
    }
   ],
   "source": [
    "# Train the model again\n",
    "model.fit(X_train, y_train)\n",
    "print(\"Model training completed successfully!\")\n"
   ]
  },
  {
   "cell_type": "code",
   "execution_count": 376,
   "id": "0bdbcf07-ec2c-4248-adf6-f7c61ec8eae4",
   "metadata": {},
   "outputs": [
    {
     "name": "stdout",
     "output_type": "stream",
     "text": [
      "Checking for NaN values:\n",
      "team1_strength        0\n",
      "team2_strength        0\n",
      "venue_avg_1st         0\n",
      "venue_avg_2nd         0\n",
      "team1_score          77\n",
      "team1_wickets         0\n",
      "team2_score          82\n",
      "team2_overs          82\n",
      "team2_wickets         0\n",
      "current_run_rate      0\n",
      "required_run_rate     0\n",
      "dtype: int64\n",
      "\n",
      "Checking for infinity values:\n",
      "team1_strength        0\n",
      "team2_strength        0\n",
      "venue_avg_1st         0\n",
      "venue_avg_2nd         0\n",
      "team1_score           0\n",
      "team1_wickets         0\n",
      "team2_score           0\n",
      "team2_overs           0\n",
      "team2_wickets         0\n",
      "current_run_rate      0\n",
      "required_run_rate    34\n",
      "dtype: int64\n",
      "\n",
      "Checking for -infinity values:\n",
      "team1_strength       0\n",
      "team2_strength       0\n",
      "venue_avg_1st        0\n",
      "venue_avg_2nd        0\n",
      "team1_score          0\n",
      "team1_wickets        0\n",
      "team2_score          0\n",
      "team2_overs          0\n",
      "team2_wickets        0\n",
      "current_run_rate     0\n",
      "required_run_rate    2\n",
      "dtype: int64\n"
     ]
    }
   ],
   "source": [
    "print(\"Checking for NaN values:\")\n",
    "print(X_test.isnull().sum())\n",
    "\n",
    "print(\"\\nChecking for infinity values:\")\n",
    "print((X_test == np.inf).sum())\n",
    "\n",
    "print(\"\\nChecking for -infinity values:\")\n",
    "print((X_test == -np.inf).sum())\n"
   ]
  },
  {
   "cell_type": "code",
   "execution_count": 378,
   "id": "3ac4c9af-9e40-4fe2-a06a-a8efbb31cf59",
   "metadata": {},
   "outputs": [
    {
     "name": "stdout",
     "output_type": "stream",
     "text": [
      "team1_strength       0\n",
      "team2_strength       0\n",
      "venue_avg_1st        0\n",
      "venue_avg_2nd        0\n",
      "team1_score          0\n",
      "team1_wickets        0\n",
      "team2_score          0\n",
      "team2_overs          0\n",
      "team2_wickets        0\n",
      "current_run_rate     0\n",
      "required_run_rate    0\n",
      "dtype: int64\n"
     ]
    }
   ],
   "source": [
    "# Replace infinity with NaN\n",
    "X_test.replace([np.inf, -np.inf], np.nan, inplace=True)\n",
    "\n",
    "# Drop rows with NaN\n",
    "X_test.dropna(inplace=True)\n",
    "\n",
    "# Confirm the dataset is clean\n",
    "print(X_test.isnull().sum())\n"
   ]
  },
  {
   "cell_type": "code",
   "execution_count": 380,
   "id": "a1013608-a236-4f4f-bd2d-6071dbe56bf0",
   "metadata": {},
   "outputs": [
    {
     "name": "stdout",
     "output_type": "stream",
     "text": [
      "[[0.65784997 0.40341479 0.28571429 0.28571429 0.34813084 1.\n",
      "  0.37752161 0.78521127 0.70955882 0.09735417 0.05979575]\n",
      " [0.45070873 0.77602823 0.28571429 0.28571429 0.41588785 0.5\n",
      "  0.69164265 0.91901408 1.         0.32392228 0.04882395]\n",
      " [0.63166495 0.53890979 0.28571429 0.28571429 0.46028037 1.\n",
      "  0.44092219 0.84859155 0.61397059 0.12960632 0.06919558]\n",
      " [0.92788304 0.65784997 0.28571429 0.28571429 0.58411215 0.3\n",
      "  0.89913545 0.71830986 1.         0.7292246  0.04907787]\n",
      " [1.         0.65784997 0.28571429 0.28571429 0.49065421 0.7\n",
      "  0.78962536 0.98591549 1.         0.36528219 0.04303279]]\n"
     ]
    }
   ],
   "source": [
    "from sklearn.preprocessing import MinMaxScaler\n",
    "\n",
    "scaler = MinMaxScaler()\n",
    "X_test_scaled = scaler.fit_transform(X_test)\n",
    "\n",
    "# Check scaled data\n",
    "print(X_test_scaled[:5])\n"
   ]
  },
  {
   "cell_type": "code",
   "execution_count": 384,
   "id": "ca15cc27-f189-4407-aa78-c5417f22b757",
   "metadata": {},
   "outputs": [
    {
     "name": "stdout",
     "output_type": "stream",
     "text": [
      "Shape of X_test: (358, 11)\n",
      "Length of y_test: 476\n"
     ]
    }
   ],
   "source": [
    "print(\"Shape of X_test:\", X_test.shape)\n",
    "print(\"Length of y_test:\", len(y_test))\n"
   ]
  },
  {
   "cell_type": "code",
   "execution_count": 386,
   "id": "b2c091dd-142d-485f-bade-488785fa6625",
   "metadata": {},
   "outputs": [
    {
     "name": "stdout",
     "output_type": "stream",
     "text": [
      "New Length of y_test: 358\n"
     ]
    }
   ],
   "source": [
    "y_test = y_test.loc[X_test.index]\n",
    "print(\"New Length of y_test:\", len(y_test))\n"
   ]
  },
  {
   "cell_type": "code",
   "execution_count": 388,
   "id": "d7478029-abce-4d1e-b7c4-11c441e8b015",
   "metadata": {},
   "outputs": [
    {
     "name": "stdout",
     "output_type": "stream",
     "text": [
      "Model Accuracy: 0.6955307262569832\n"
     ]
    }
   ],
   "source": [
    "y_pred = model.predict(X_test)\n",
    "\n",
    "# Calculate accuracy\n",
    "accuracy = accuracy_score(y_test, y_pred)\n",
    "print(\"Model Accuracy:\", accuracy)\n"
   ]
  },
  {
   "cell_type": "code",
   "execution_count": 390,
   "id": "743e1888-1b22-4d0e-abc2-c25594d1f183",
   "metadata": {},
   "outputs": [
    {
     "name": "stdout",
     "output_type": "stream",
     "text": [
      "Are indices of X_test and y_test aligned? True\n",
      "Do X_test and y_test have any missing values?\n",
      "team1_strength       0\n",
      "team2_strength       0\n",
      "venue_avg_1st        0\n",
      "venue_avg_2nd        0\n",
      "team1_score          0\n",
      "team1_wickets        0\n",
      "team2_score          0\n",
      "team2_overs          0\n",
      "team2_wickets        0\n",
      "current_run_rate     0\n",
      "required_run_rate    0\n",
      "dtype: int64\n",
      "0\n"
     ]
    }
   ],
   "source": [
    "print(\"Are indices of X_test and y_test aligned?\", X_test.index.equals(y_test.index))\n",
    "print(\"Do X_test and y_test have any missing values?\")\n",
    "print(X_test.isnull().sum())\n",
    "print(y_test.isnull().sum())\n"
   ]
  },
  {
   "cell_type": "code",
   "execution_count": 392,
   "id": "ee945cf9-06bc-4e63-9912-91af3e76832c",
   "metadata": {},
   "outputs": [
    {
     "name": "stdout",
     "output_type": "stream",
     "text": [
      "Are indices of X_test and y_test aligned? True\n",
      "Do X_test and y_test have any missing values?\n",
      "team1_strength       0\n",
      "team2_strength       0\n",
      "venue_avg_1st        0\n",
      "venue_avg_2nd        0\n",
      "team1_score          0\n",
      "team1_wickets        0\n",
      "team2_score          0\n",
      "team2_overs          0\n",
      "team2_wickets        0\n",
      "current_run_rate     0\n",
      "required_run_rate    0\n",
      "dtype: int64\n",
      "0\n"
     ]
    }
   ],
   "source": [
    "print(\"Are indices of X_test and y_test aligned?\", X_test.index.equals(y_test.index))\n",
    "print(\"Do X_test and y_test have any missing values?\")\n",
    "print(X_test.isnull().sum())\n",
    "print(y_test.isnull().sum())\n"
   ]
  },
  {
   "cell_type": "code",
   "execution_count": 394,
   "id": "246e2918-9ead-42b7-ba69-ed2cab7fc800",
   "metadata": {},
   "outputs": [
    {
     "name": "stdout",
     "output_type": "stream",
     "text": [
      "Model saved successfully!\n"
     ]
    }
   ],
   "source": [
    "import joblib\n",
    "\n",
    "# Save the trained model to a file\n",
    "joblib.dump(model, 'cricket_win_predictor_model.pkl')\n",
    "print(\"Model saved successfully!\")\n"
   ]
  },
  {
   "cell_type": "markdown",
   "id": "663128a0-2814-422c-b358-45e72a063ab3",
   "metadata": {},
   "source": [
    "Creating a function for prediction "
   ]
  },
  {
   "cell_type": "code",
   "execution_count": 406,
   "id": "d4d97bf7-6705-43c1-a944-f492fd1cd005",
   "metadata": {},
   "outputs": [],
   "source": [
    "def predict_match_result(team1_strength, team2_strength, venue_avg_1st, venue_avg_2nd,\n",
    "                         team1_score, team1_overs, team1_wickets,\n",
    "                         team2_score, team2_overs, team2_wickets):\n",
    "    # Load the trained model\n",
    "    loaded_model = joblib.load('cricket_win_predictor_model.pkl')\n",
    "\n",
    "    # Compute current run rate and required run rate\n",
    "    current_run_rate = team2_score / team2_overs if team2_overs > 0 else 0\n",
    "    required_run_rate = (\n",
    "        (team1_score - team2_score) / (50 - team2_overs) if (50 - team2_overs) > 0 else 0\n",
    "    )\n",
    "\n",
    "    # Prepare the input data\n",
    "    input_data = pd.DataFrame([{\n",
    "        'team1_strength': team1_strength,\n",
    "        'team2_strength': team2_strength,\n",
    "        'venue_avg_1st': venue_avg_1st,\n",
    "        'venue_avg_2nd': venue_avg_2nd,\n",
    "        'team1_score': team1_score,\n",
    "        'team1_wickets': team1_wickets,\n",
    "        'team2_score': team2_score,\n",
    "        'team2_overs': team2_overs,\n",
    "        'team2_wickets': team2_wickets,\n",
    "        'current_run_rate': current_run_rate,\n",
    "        'required_run_rate': required_run_rate\n",
    "    }])\n",
    "\n",
    "    # Predict probabilities\n",
    "    win_probabilities = loaded_model.predict_proba(input_data)\n",
    "\n",
    "    # Return results\n",
    "    return win_probabilities\n"
   ]
  },
  {
   "cell_type": "markdown",
   "id": "4a2b8788-2bae-4d90-8b57-cc5bde0acfb6",
   "metadata": {},
   "source": [
    "Now we test the function"
   ]
  },
  {
   "cell_type": "code",
   "execution_count": 408,
   "id": "6731e8f7-d6f1-4e48-bc3e-6d275e34daf4",
   "metadata": {},
   "outputs": [
    {
     "name": "stdout",
     "output_type": "stream",
     "text": [
      "Team 1 Win Probability: 57.00%\n",
      "Team 2 Win Probability: 43.00%\n"
     ]
    }
   ],
   "source": [
    "# Example inputs\n",
    "team1_strength = 0.75\n",
    "team2_strength = 0.70\n",
    "venue_avg_1st = 250\n",
    "venue_avg_2nd = 230\n",
    "team1_score = 240\n",
    "team1_wickets = 7\n",
    "team1_overs = 50\n",
    "team2_score = 150\n",
    "team2_overs = 30\n",
    "team2_wickets = 4\n",
    "\n",
    "# Call the function\n",
    "win_probabilities = predict_match_result(team1_strength, team2_strength, venue_avg_1st, venue_avg_2nd,\n",
    "                                         team1_score, team1_overs, team1_wickets,\n",
    "                                         team2_score, team2_overs, team2_wickets)\n",
    "\n",
    "# Display the result\n",
    "print(f\"Team 1 Win Probability: {win_probabilities[0][1] * 100:.2f}%\")\n",
    "print(f\"Team 2 Win Probability: {win_probabilities[0][0] * 100:.2f}%\")\n"
   ]
  },
  {
   "cell_type": "code",
   "execution_count": null,
   "id": "80bd929c-1d74-46c4-9c7a-6e13398f86be",
   "metadata": {},
   "outputs": [],
   "source": []
  }
 ],
 "metadata": {
  "kernelspec": {
   "display_name": "Python [conda env:base] *",
   "language": "python",
   "name": "conda-base-py"
  },
  "language_info": {
   "codemirror_mode": {
    "name": "ipython",
    "version": 3
   },
   "file_extension": ".py",
   "mimetype": "text/x-python",
   "name": "python",
   "nbconvert_exporter": "python",
   "pygments_lexer": "ipython3",
   "version": "3.12.7"
  }
 },
 "nbformat": 4,
 "nbformat_minor": 5
}
